{
 "cells": [
  {
   "cell_type": "markdown",
   "metadata": {},
   "source": [
    "# CSC 593\n",
    "\n",
    "## Week 11"
   ]
  },
  {
   "cell_type": "code",
   "execution_count": 1,
   "metadata": {},
   "outputs": [],
   "source": [
    "#setup.\n",
    "import numpy as np\n",
    "import pandas as pd\n",
    "import matplotlib.pyplot as plt\n",
    "import seaborn as sns\n",
    "\n",
    "#Commonly-used widget functions\n",
    "from ipywidgets import interact, interact_manual, interactive_output\n",
    "\n",
    "import ipywidgets as widgets\n",
    "\n",
    "# To explicitly display widgets.\n",
    "from IPython.display import display\n",
    "\n",
    "%matplotlib notebook"
   ]
  },
  {
   "cell_type": "markdown",
   "metadata": {},
   "source": [
    "### If that first cell gives you an error:\n",
    "\n",
    "Run this in a Terminal (Mac) or Anaconda Powershell Prompt (Windows):\n",
    "\n",
    "`conda install -c conda-forge voila`"
   ]
  },
  {
   "cell_type": "markdown",
   "metadata": {},
   "source": [
    "### Course Evaluations:"
   ]
  },
  {
   "cell_type": "markdown",
   "metadata": {},
   "source": [
    "https://uri.campuslabs.com/courseeval/ce/csc/593/0001\n"
   ]
  },
  {
   "cell_type": "markdown",
   "metadata": {},
   "source": [
    "### Interactivity with IPyWidgets"
   ]
  },
  {
   "cell_type": "markdown",
   "metadata": {},
   "source": [
    "IPyWidgets allows you to add interactive elements to your Jupyter notebooks. \n",
    "\n",
    "The documentation is [here](https://ipywidgets.readthedocs.io/en/latest/examples/Widget%20List.html). There's also a useful tutorial [on Github](https://github.com/jupyter-widgets/tutorial). You can just `git clone` it to your computer."
   ]
  },
  {
   "cell_type": "markdown",
   "metadata": {},
   "source": [
    "For the most basic usage, just create a function with arguments that have default values, then call the IPyWidgets `interact()` function:"
   ]
  },
  {
   "cell_type": "code",
   "execution_count": 2,
   "metadata": {},
   "outputs": [
    {
     "data": {
      "application/vnd.jupyter.widget-view+json": {
       "model_id": "a5e621ebe21b402db11a9e73930068c7",
       "version_major": 2,
       "version_minor": 0
      },
      "text/plain": [
       "interactive(children=(IntSlider(value=5, description='x', max=15, min=-5), Output()), _dom_classes=('widget-in…"
      ]
     },
     "metadata": {},
     "output_type": "display_data"
    }
   ],
   "source": [
    "#Basic usage\n",
    "def f(x=5):\n",
    "    return x + 10\n",
    "\n",
    "interact(f);"
   ]
  },
  {
   "cell_type": "markdown",
   "metadata": {},
   "source": [
    "`interact()` takes a function, then a value for each argument of that function (here, it just needs `x`). Since we're giving it a single value for `x`, it will use that as the default. Since the default is an integer, it gives us a slider that returns an integer with a range of (x-10) to (x+10).\n",
    "\n",
    "When the value of the slider changes, `f()` is automatically called with the new value for `x`, and the output is printed below the slider."
   ]
  },
  {
   "cell_type": "markdown",
   "metadata": {},
   "source": [
    "You can also define the default value in the function declaration:"
   ]
  },
  {
   "cell_type": "code",
   "execution_count": 3,
   "metadata": {},
   "outputs": [
    {
     "data": {
      "application/vnd.jupyter.widget-view+json": {
       "model_id": "617fc97b8bbb4c2597b8695d4b602472",
       "version_major": 2,
       "version_minor": 0
      },
      "text/plain": [
       "interactive(children=(IntSlider(value=5, description='x', max=10), Output()), _dom_classes=('widget-interact',…"
      ]
     },
     "metadata": {},
     "output_type": "display_data"
    }
   ],
   "source": [
    "def g(x=5):\n",
    "    return x+20\n",
    "\n",
    "interact(g, x=(0, 10));"
   ]
  },
  {
   "cell_type": "markdown",
   "metadata": {},
   "source": [
    "`interact()` uses `x`'s default value from the function declaration as its default. We can now set an explicit range for `x` on our slider.\n",
    "\n",
    "It's also possible to define a \"step\" value for the slider. If we set it (or any other value for `x`) to a float, `interact()` will recognize this and provide a slider that can handle float values."
   ]
  },
  {
   "cell_type": "code",
   "execution_count": 4,
   "metadata": {
    "scrolled": true
   },
   "outputs": [
    {
     "data": {
      "application/vnd.jupyter.widget-view+json": {
       "model_id": "b676a20263774f3cbf2a0960c957696d",
       "version_major": 2,
       "version_minor": 0
      },
      "text/plain": [
       "interactive(children=(FloatSlider(value=5.0, description='x', max=10.0), Output()), _dom_classes=('widget-inte…"
      ]
     },
     "metadata": {},
     "output_type": "display_data"
    }
   ],
   "source": [
    "#You can also specify a \"step\"\n",
    "interact(g, x=(0, 10, .1));"
   ]
  },
  {
   "cell_type": "markdown",
   "metadata": {},
   "source": [
    "#### Practice"
   ]
  },
  {
   "cell_type": "markdown",
   "metadata": {},
   "source": [
    "Write a function that takes one argument and returns the square of its input. Set its argument's default to 3.\n",
    "\n",
    "\n",
    "(Remember the exponent operator is `**`, or you can use the [`np.power()` function](https://docs.scipy.org/doc/numpy/reference/generated/numpy.power.html).)"
   ]
  },
  {
   "cell_type": "code",
   "execution_count": 5,
   "metadata": {},
   "outputs": [
    {
     "name": "stdout",
     "output_type": "stream",
     "text": [
      "16\n",
      "16\n"
     ]
    }
   ],
   "source": [
    "print(4**2)\n",
    "print(np.power(4,2))"
   ]
  },
  {
   "cell_type": "code",
   "execution_count": 12,
   "metadata": {},
   "outputs": [
    {
     "data": {
      "application/vnd.jupyter.widget-view+json": {
       "model_id": "36a90a226f904c71b8136eed95f55291",
       "version_major": 2,
       "version_minor": 0
      },
      "text/plain": [
       "interactive(children=(IntSlider(value=3, description='x', max=9, min=-3), Output()), _dom_classes=('widget-int…"
      ]
     },
     "metadata": {},
     "output_type": "display_data"
    }
   ],
   "source": [
    "#write your function here:\n",
    "def p(x=3):\n",
    "    return x**2\n",
    "\n",
    "interact(p);"
   ]
  },
  {
   "cell_type": "markdown",
   "metadata": {},
   "source": [
    "Now create an interactive slider that calls your function with an integer."
   ]
  },
  {
   "cell_type": "code",
   "execution_count": 15,
   "metadata": {},
   "outputs": [
    {
     "data": {
      "application/vnd.jupyter.widget-view+json": {
       "model_id": "e157fb47ff31437995733dc62f7272a6",
       "version_major": 2,
       "version_minor": 0
      },
      "text/plain": [
       "interactive(children=(IntSlider(value=3, description='x', max=10), Output()), _dom_classes=('widget-interact',…"
      ]
     },
     "metadata": {},
     "output_type": "display_data"
    }
   ],
   "source": [
    "interact(p, x=(0, 10));"
   ]
  },
  {
   "cell_type": "markdown",
   "metadata": {},
   "source": [
    "Create a new slider that gives your function a floating-point number."
   ]
  },
  {
   "cell_type": "code",
   "execution_count": 16,
   "metadata": {},
   "outputs": [
    {
     "data": {
      "application/vnd.jupyter.widget-view+json": {
       "model_id": "006d1332a6884e588333aeb7c8002834",
       "version_major": 2,
       "version_minor": 0
      },
      "text/plain": [
       "interactive(children=(FloatSlider(value=3.0, description='x', max=10.0), Output()), _dom_classes=('widget-inte…"
      ]
     },
     "metadata": {},
     "output_type": "display_data"
    }
   ],
   "source": [
    "interact(p, x=(0, 10, .1));"
   ]
  },
  {
   "cell_type": "markdown",
   "metadata": {},
   "source": [
    "### As a Decorator\n",
    "\n",
    "We can also use `interact()` as a decorator, which simplifies our code in some cases."
   ]
  },
  {
   "cell_type": "code",
   "execution_count": 17,
   "metadata": {},
   "outputs": [
    {
     "data": {
      "application/vnd.jupyter.widget-view+json": {
       "model_id": "0a02960482b744668310e7f87513fde7",
       "version_major": 2,
       "version_minor": 0
      },
      "text/plain": [
       "interactive(children=(FloatSlider(value=7.5, description='x', max=10.0, step=0.01), Output()), _dom_classes=('…"
      ]
     },
     "metadata": {},
     "output_type": "display_data"
    }
   ],
   "source": [
    "#Same effect using a decorator\n",
    "@interact(x=(0, 10, .01))\n",
    "def h(x=7.5):\n",
    "    return x+100"
   ]
  },
  {
   "cell_type": "markdown",
   "metadata": {},
   "source": [
    "### Type Detection\n",
    "\n",
    "`interact()` recognizes the arguments' data types and automatically chooses an appropriate widget."
   ]
  },
  {
   "cell_type": "code",
   "execution_count": 18,
   "metadata": {},
   "outputs": [
    {
     "data": {
      "application/vnd.jupyter.widget-view+json": {
       "model_id": "ec7799f3a3b44f3b8245eec301b1ab13",
       "version_major": 2,
       "version_minor": 0
      },
      "text/plain": [
       "interactive(children=(Checkbox(value=True, description='x'), Output()), _dom_classes=('widget-interact',))"
      ]
     },
     "metadata": {},
     "output_type": "display_data"
    }
   ],
   "source": [
    "#interact() will choose the appropriate widget for many data types.\n",
    "@interact()\n",
    "def i(x=True):\n",
    "    return 10 if x else 0"
   ]
  },
  {
   "cell_type": "code",
   "execution_count": 19,
   "metadata": {},
   "outputs": [
    {
     "data": {
      "application/vnd.jupyter.widget-view+json": {
       "model_id": "29d7096f21a348be8948defa9c0eb8ef",
       "version_major": 2,
       "version_minor": 0
      },
      "text/plain": [
       "interactive(children=(Text(value='WHATEVER', description='x'), Output()), _dom_classes=('widget-interact',))"
      ]
     },
     "metadata": {},
     "output_type": "display_data"
    }
   ],
   "source": [
    "@interact()\n",
    "def j(x=\"WHATEVER\"):\n",
    "    return x.lower()"
   ]
  },
  {
   "cell_type": "markdown",
   "metadata": {},
   "source": [
    "#### Practice"
   ]
  },
  {
   "cell_type": "markdown",
   "metadata": {},
   "source": [
    "The `reverse()` function, takes a string as input and returns the string backwards. Create an interactive text box that runs `reverse()` on its input. "
   ]
  },
  {
   "cell_type": "code",
   "execution_count": null,
   "metadata": {},
   "outputs": [],
   "source": [
    "#From the IPyWidgets tutorial, section 02.01.\n",
    "#https://github.com/jupyter-widgets/tutorial\n",
    "def reverse(x):\n",
    "    return x[::-1]\n",
    "\n",
    "reverse('This is backwards text.')"
   ]
  },
  {
   "cell_type": "code",
   "execution_count": null,
   "metadata": {},
   "outputs": [],
   "source": []
  },
  {
   "cell_type": "markdown",
   "metadata": {},
   "source": [
    "Create a check box that writes 'yes' when checked, 'no' otherwise."
   ]
  },
  {
   "cell_type": "code",
   "execution_count": null,
   "metadata": {},
   "outputs": [],
   "source": []
  },
  {
   "cell_type": "markdown",
   "metadata": {},
   "source": [
    "### Interactive visualizations"
   ]
  },
  {
   "cell_type": "code",
   "execution_count": 20,
   "metadata": {},
   "outputs": [],
   "source": [
    "#setup\n",
    "iris = sns.load_dataset('iris')\n",
    "\n",
    "sns.set()\n",
    "plt.rc('figure', figsize=[10,5])"
   ]
  },
  {
   "cell_type": "markdown",
   "metadata": {},
   "source": [
    "Remember that the function we give to `interact()` can do anything we want. This provides a convenient way to create visualizations that can be manipulated interactively."
   ]
  },
  {
   "cell_type": "code",
   "execution_count": 21,
   "metadata": {
    "scrolled": true
   },
   "outputs": [],
   "source": [
    "def k(x=25):\n",
    "    sns.stripplot('petal_width', 'petal_length', data=iris[:x], jitter=True, color='red', alpha=.3)\n",
    "    plt.plot()"
   ]
  },
  {
   "cell_type": "code",
   "execution_count": 22,
   "metadata": {},
   "outputs": [
    {
     "data": {
      "application/vnd.jupyter.widget-view+json": {
       "model_id": "bd3859ffe3334742aa58a73a2b7d9a8f",
       "version_major": 2,
       "version_minor": 0
      },
      "text/plain": [
       "interactive(children=(IntSlider(value=25, description='x', max=150), Output()), _dom_classes=('widget-interact…"
      ]
     },
     "metadata": {},
     "output_type": "display_data"
    }
   ],
   "source": [
    "interact(k, x=(0, iris.count()[0]));"
   ]
  },
  {
   "cell_type": "markdown",
   "metadata": {},
   "source": [
    "One issue with interactive plotting is lag--it takes time to draw the graph, especially as we drag the slider and the chart is redrawn repeatedly. One fix is to use `interact_manual()`, which adds a button to trigger the function."
   ]
  },
  {
   "cell_type": "code",
   "execution_count": 23,
   "metadata": {
    "scrolled": false
   },
   "outputs": [
    {
     "data": {
      "application/vnd.jupyter.widget-view+json": {
       "model_id": "1672fdf6f6f94ab6b192202d5da3bc9e",
       "version_major": 2,
       "version_minor": 0
      },
      "text/plain": [
       "interactive(children=(IntSlider(value=25, description='x', max=150), Button(description='Run Interact', style=…"
      ]
     },
     "metadata": {},
     "output_type": "display_data"
    }
   ],
   "source": [
    "#Plotting can be slow. \n",
    "interact_manual(k, x=(0, iris.count()[0]));"
   ]
  },
  {
   "cell_type": "markdown",
   "metadata": {},
   "source": [
    "#### Practice"
   ]
  },
  {
   "cell_type": "markdown",
   "metadata": {},
   "source": [
    "You can use the [`np.random.normal()`](https://docs.scipy.org/doc/numpy-1.15.0/reference/generated/numpy.random.normal.html) function to generate random numbers on a normal distribution. Create a widget that draws a histogram with between 100 and 1000 normally distributed random numbers with a mean of 10 and a standard deviation of 3.\n",
    "\n",
    "(You can draw a histogram with `plt.hist()` or `sns.distplot()`)"
   ]
  },
  {
   "cell_type": "code",
   "execution_count": null,
   "metadata": {},
   "outputs": [],
   "source": [
    "numpy.random.normal(loc=10.0, scale=3.0, size=None)"
   ]
  },
  {
   "cell_type": "code",
   "execution_count": 27,
   "metadata": {},
   "outputs": [],
   "source": [
    "data=np.random.normal(10,3,1000)\n",
    "def normhist(x=100):\n",
    "    global data\n",
    "    dat= data[:x]\n",
    "    plt.hist(dat)\n",
    "    sns.distplot(dat)\n",
    "    plt.show()\n",
    "    \n"
   ]
  },
  {
   "cell_type": "code",
   "execution_count": 28,
   "metadata": {},
   "outputs": [
    {
     "data": {
      "application/vnd.jupyter.widget-view+json": {
       "model_id": "e6f387e97f95473780008f3810201edb",
       "version_major": 2,
       "version_minor": 0
      },
      "text/plain": [
       "interactive(children=(IntSlider(value=100, description='x', max=1000, min=100, step=100), Output()), _dom_clas…"
      ]
     },
     "metadata": {},
     "output_type": "display_data"
    },
    {
     "data": {
      "text/plain": [
       "<function __main__.normhist(x=100)>"
      ]
     },
     "execution_count": 28,
     "metadata": {},
     "output_type": "execute_result"
    }
   ],
   "source": [
    "interact (normhist, x=(100,1000,100))"
   ]
  },
  {
   "cell_type": "code",
   "execution_count": 30,
   "metadata": {},
   "outputs": [
    {
     "data": {
      "image/png": "[encoded data removed]",
      "text/plain": [
       "<Figure size 720x360 with 1 Axes>"
      ]
     },
     "metadata": {},
     "output_type": "display_data"
    }
   ],
   "source": [
    "def normhist(x=100):\n",
    "    #global data\n",
    "    #dat= data[:x]\n",
    "    dat=np.random.normal(10,3,x)\n",
    "    #plt.hist(dat)\n",
    "    sns.distplot(dat)\n",
    "    plt.show()\n",
    "normhist()"
   ]
  },
  {
   "cell_type": "markdown",
   "metadata": {},
   "source": [
    "### Multiple arguments"
   ]
  },
  {
   "cell_type": "markdown",
   "metadata": {},
   "source": [
    "We can use multiple arguments the same as single ones."
   ]
  },
  {
   "cell_type": "code",
   "execution_count": 31,
   "metadata": {},
   "outputs": [
    {
     "data": {
      "application/vnd.jupyter.widget-view+json": {
       "model_id": "a05daa06d0334888b4adf5c0585d7b28",
       "version_major": 2,
       "version_minor": 0
      },
      "text/plain": [
       "interactive(children=(FloatSlider(value=0.25, description='a', max=1.0, step=0.05), Checkbox(value=True, descr…"
      ]
     },
     "metadata": {},
     "output_type": "display_data"
    }
   ],
   "source": [
    "def l(a=.25, jit=True):\n",
    "    sns.stripplot('petal_width', 'petal_length', data=iris, jitter=jit, color='red', alpha=a)\n",
    "    plt.plot()\n",
    "\n",
    "interact(l, a=(0,1,.05), lag=False);"
   ]
  },
  {
   "cell_type": "markdown",
   "metadata": {},
   "source": [
    "### Specifying widget types"
   ]
  },
  {
   "cell_type": "markdown",
   "metadata": {},
   "source": [
    "If you don't like `interact()`'s default widget for something, you can specify a different one. There's a list at https://ipywidgets.readthedocs.io/en/latest/examples/Widget%20List.html.\n",
    "\n",
    "This also allows you to configure things like the labels on buttons and placement."
   ]
  },
  {
   "cell_type": "code",
   "execution_count": 32,
   "metadata": {},
   "outputs": [
    {
     "data": {
      "application/vnd.jupyter.widget-view+json": {
       "model_id": "8ea92e6a37844a73ba5d66bda510f4d8",
       "version_major": 2,
       "version_minor": 0
      },
      "text/plain": [
       "interactive(children=(BoundedFloatText(value=0.25, description='Opacity', max=1.0, step=0.05), ToggleButton(va…"
      ]
     },
     "metadata": {},
     "output_type": "display_data"
    }
   ],
   "source": [
    "interact(l, \n",
    "         a=widgets.BoundedFloatText(value=.25, min=0, max=1, step=.05, description=\"Opacity\"),\n",
    "         jit=widgets.ToggleButton(value=True, description=\"Jitter?\"));"
   ]
  },
  {
   "cell_type": "markdown",
   "metadata": {},
   "source": [
    "If you don't want to be able to change an argument, use the `fixed` widget."
   ]
  },
  {
   "cell_type": "code",
   "execution_count": 33,
   "metadata": {},
   "outputs": [
    {
     "data": {
      "application/vnd.jupyter.widget-view+json": {
       "model_id": "02c6aafc286b4539b386be29e95b4eb3",
       "version_major": 2,
       "version_minor": 0
      },
      "text/plain": [
       "interactive(children=(Checkbox(value=True, description='jit'), Output()), _dom_classes=('widget-interact',))"
      ]
     },
     "metadata": {},
     "output_type": "display_data"
    }
   ],
   "source": [
    "interact(l, a=widgets.fixed(.3), lag=False);"
   ]
  },
  {
   "cell_type": "markdown",
   "metadata": {},
   "source": [
    "### `continuous_update`\n",
    "\n",
    "An alternative to `interact_manual()` is the `continuous_update` option on slider widgets. This graph won't change when you're manipulating the slider, only when you let go."
   ]
  },
  {
   "cell_type": "code",
   "execution_count": 34,
   "metadata": {},
   "outputs": [
    {
     "data": {
      "application/vnd.jupyter.widget-view+json": {
       "model_id": "7436c994564e40aa8e7348b37e19c5ac",
       "version_major": 2,
       "version_minor": 0
      },
      "text/plain": [
       "interactive(children=(IntSlider(value=25, continuous_update=False, description='x', max=150, min=1), Output())…"
      ]
     },
     "metadata": {},
     "output_type": "display_data"
    }
   ],
   "source": [
    "#Another option for dealing with slow functions.\n",
    "interact(k, x=widgets.IntSlider(25, min=1, max=iris.count()[0], continuous_update=False));"
   ]
  },
  {
   "cell_type": "markdown",
   "metadata": {},
   "source": [
    "Here's another, more complex example, showing a line plot."
   ]
  },
  {
   "cell_type": "code",
   "execution_count": 35,
   "metadata": {},
   "outputs": [
    {
     "data": {
      "text/html": [
       "<div>\n",
       "<style scoped>\n",
       "    .dataframe tbody tr th:only-of-type {\n",
       "        vertical-align: middle;\n",
       "    }\n",
       "\n",
       "    .dataframe tbody tr th {\n",
       "        vertical-align: top;\n",
       "    }\n",
       "\n",
       "    .dataframe thead th {\n",
       "        text-align: right;\n",
       "    }\n",
       "</style>\n",
       "<table border=\"1\" class=\"dataframe\">\n",
       "  <thead>\n",
       "    <tr style=\"text-align: right;\">\n",
       "      <th></th>\n",
       "      <th>State</th>\n",
       "      <th>Month</th>\n",
       "      <th>Rate</th>\n",
       "    </tr>\n",
       "  </thead>\n",
       "  <tbody>\n",
       "    <tr>\n",
       "      <th>0</th>\n",
       "      <td>Alabama</td>\n",
       "      <td>Jan.</td>\n",
       "      <td>3.8</td>\n",
       "    </tr>\n",
       "    <tr>\n",
       "      <th>1</th>\n",
       "      <td>Alaska</td>\n",
       "      <td>Jan.</td>\n",
       "      <td>6.5</td>\n",
       "    </tr>\n",
       "    <tr>\n",
       "      <th>2</th>\n",
       "      <td>Arizona</td>\n",
       "      <td>Jan.</td>\n",
       "      <td>4.9</td>\n",
       "    </tr>\n",
       "    <tr>\n",
       "      <th>3</th>\n",
       "      <td>Arkansas</td>\n",
       "      <td>Jan.</td>\n",
       "      <td>3.7</td>\n",
       "    </tr>\n",
       "    <tr>\n",
       "      <th>4</th>\n",
       "      <td>California</td>\n",
       "      <td>Jan.</td>\n",
       "      <td>4.2</td>\n",
       "    </tr>\n",
       "  </tbody>\n",
       "</table>\n",
       "</div>"
      ],
      "text/plain": [
       "        State Month  Rate\n",
       "0     Alabama  Jan.   3.8\n",
       "1      Alaska  Jan.   6.5\n",
       "2     Arizona  Jan.   4.9\n",
       "3    Arkansas  Jan.   3.7\n",
       "4  California  Jan.   4.2"
      ]
     },
     "execution_count": 35,
     "metadata": {},
     "output_type": "execute_result"
    }
   ],
   "source": [
    "#Staging.\n",
    "#from the National Conference of State Legislatures.\n",
    "unemp = pd.read_html('http://www.ncsl.org/research/labor-and-employment/state-unemployment-update.aspx')[0].iloc[:,:11]\n",
    "\n",
    "#Reshape the table into \"Long\" format.\n",
    "unemp = pd.melt(unemp, id_vars='State', var_name=\"Month\", value_name=\"Rate\")\n",
    "unemp.head()"
   ]
  },
  {
   "cell_type": "code",
   "execution_count": 36,
   "metadata": {},
   "outputs": [],
   "source": [
    "def plotUnemp(states=[]):\n",
    "    plt.figure(figsize=(12,8))\n",
    "    data = unemp[unemp.State.isin(states)]\n",
    "    sns.lineplot('Month', 'Rate', 'State', data=data)"
   ]
  },
  {
   "cell_type": "code",
   "execution_count": 37,
   "metadata": {},
   "outputs": [
    {
     "data": {
      "application/vnd.jupyter.widget-view+json": {
       "model_id": "9f4e238889ec450c9e9fff586a2b7fd4",
       "version_major": 2,
       "version_minor": 0
      },
      "text/plain": [
       "interactive(children=(SelectMultiple(description='State', index=(6, 19, 21, 29, 39, 45), options=('Alabama', '…"
      ]
     },
     "metadata": {},
     "output_type": "display_data"
    },
    {
     "data": {
      "text/plain": [
       "<function __main__.plotUnemp(states=[])>"
      ]
     },
     "execution_count": 37,
     "metadata": {},
     "output_type": "execute_result"
    }
   ],
   "source": [
    "interact(plotUnemp, states = widgets.SelectMultiple(\n",
    "                                    options=unemp.State,\n",
    "                                    value=('Connecticut', 'Maine', 'Massachusetts', \n",
    "                                           'New Hampshire', 'Rhode Island', 'Vermont'),\n",
    "                                    description='State'\n",
    "))"
   ]
  },
  {
   "cell_type": "markdown",
   "metadata": {},
   "source": [
    "### Practice\n",
    "\n",
    "Update your normal histogram plotting function. Add a True/False option to change the type of plot:\n",
    "\n",
    "* If you're using `plt.hist()`, set the `histtype` argument to `'bar'` if False, `'step'` if True.\n",
    "* If you're using `sns.distplot()`, set the `kde` option equal to your new argument.\n",
    "\n",
    "Create an interaction using both the count and type options to update the histogram."
   ]
  },
  {
   "cell_type": "code",
   "execution_count": 40,
   "metadata": {},
   "outputs": [
    {
     "data": {
      "application/vnd.jupyter.widget-view+json": {
       "model_id": "7f20d74270eb4062b33c823cc4552b39",
       "version_major": 2,
       "version_minor": 0
      },
      "text/plain": [
       "interactive(children=(IntSlider(value=100, description='x', max=100000, min=100), Checkbox(value=False, descri…"
      ]
     },
     "metadata": {},
     "output_type": "display_data"
    }
   ],
   "source": [
    "@interact (x=(100,100000))\n",
    "def plotnorm2 (x=100, type=False):\n",
    "    data=np.random.normal (10,3,x)\n",
    "    \n",
    "    #pyplot\n",
    "    plt.figure(figsize=(12,9))\n",
    "    tp='step' if type else 'bar'\n",
    "    plt.hist(data, histtype=tp)\n",
    "    plt.show()\n",
    "    \n",
    "    #seaborn\n",
    "    sns.distplot(data, kde=type)\n",
    "    plt.show()"
   ]
  },
  {
   "cell_type": "markdown",
   "metadata": {},
   "source": [
    "### Placement\n",
    "\n",
    "This works, but it's not particularly attractive:"
   ]
  },
  {
   "cell_type": "code",
   "execution_count": 41,
   "metadata": {},
   "outputs": [],
   "source": [
    "def m(x=150, jit=True, species='all'):\n",
    "    plt.figure(figsize=(12,6))\n",
    "    dat = iris if species=='all' else iris[iris.species==species]\n",
    "        \n",
    "    sns.stripplot('petal_width', 'petal_length', hue='species',\n",
    "                  data=dat[:x], jitter=jit, alpha=.3)\n",
    "    plt.show()"
   ]
  },
  {
   "cell_type": "code",
   "execution_count": 42,
   "metadata": {
    "scrolled": false
   },
   "outputs": [
    {
     "data": {
      "application/vnd.jupyter.widget-view+json": {
       "model_id": "fde3a32f58e64cce8702de1d079a9907",
       "version_major": 2,
       "version_minor": 0
      },
      "text/plain": [
       "interactive(children=(BoundedIntText(value=150, description='Count', max=150, min=1), ToggleButton(value=True,…"
      ]
     },
     "metadata": {},
     "output_type": "display_data"
    }
   ],
   "source": [
    "interact(m, \n",
    "         x=widgets.BoundedIntText(150, min=1, max=iris.count()[0], description='Count', continuous_update=False),\n",
    "         jit=widgets.ToggleButton(value=True, description=\"Jitter\"), \n",
    "         species = widgets.Dropdown(options=np.append(iris.species.unique(), 'all')\n",
    "                                    , value='all', description='Species')\n",
    ");"
   ]
  },
  {
   "cell_type": "markdown",
   "metadata": {},
   "source": [
    "There are a number of [layout widgets](https://ipywidgets.readthedocs.io/en/latest/examples/Widget%20List.html#Container/Layout-widgets) available to help you control the placement of your widgets."
   ]
  },
  {
   "cell_type": "code",
   "execution_count": 43,
   "metadata": {},
   "outputs": [
    {
     "data": {
      "application/vnd.jupyter.widget-view+json": {
       "model_id": "0e9fe4599a8e43dfaa826181a44074fd",
       "version_major": 2,
       "version_minor": 0
      },
      "text/plain": [
       "HBox(children=(IntSlider(value=150, continuous_update=False, max=150, min=1), ToggleButton(value=True, descrip…"
      ]
     },
     "metadata": {},
     "output_type": "display_data"
    },
    {
     "data": {
      "application/vnd.jupyter.widget-view+json": {
       "model_id": "18c9ac59b2b74f01bde50323b2d5c532",
       "version_major": 2,
       "version_minor": 0
      },
      "text/plain": [
       "Output()"
      ]
     },
     "metadata": {},
     "output_type": "display_data"
    }
   ],
   "source": [
    "x = widgets.IntSlider(150, min=1, max=iris.count()[0], continuous_update=False)\n",
    "jit = widgets.ToggleButton(value=True, description=\"Jitter\")\n",
    "species = widgets.ToggleButtons(options=np.append(iris.species.unique(), 'all'), value='all', \n",
    "                        description='Species')\n",
    "\n",
    "# An HBox lays out its children horizontally\n",
    "ui = widgets.HBox([x, jit, species])\n",
    "\n",
    "out = interactive_output(m, {'x': x, 'jit': jit, 'species': species})\n",
    "\n",
    "display(ui, out)"
   ]
  },
  {
   "cell_type": "markdown",
   "metadata": {},
   "source": [
    "Here's the same interaction with the options to the side of the graph instead of above. \n",
    "\n",
    "Also note that when we create widgets this way, the visible instances of them are synchronized (when you change the graph below, the one above also changes."
   ]
  },
  {
   "cell_type": "code",
   "execution_count": 44,
   "metadata": {},
   "outputs": [
    {
     "data": {
      "application/vnd.jupyter.widget-view+json": {
       "model_id": "7fc840633b1347fb95d9841294a540b4",
       "version_major": 2,
       "version_minor": 0
      },
      "text/plain": [
       "HBox(children=(VBox(children=(IntSlider(value=150, continuous_update=False, max=150, min=1), ToggleButton(valu…"
      ]
     },
     "metadata": {},
     "output_type": "display_data"
    }
   ],
   "source": [
    "ui = widgets.VBox([x, jit, species])\n",
    "display(widgets.HBox([ui, out]))"
   ]
  },
  {
   "cell_type": "markdown",
   "metadata": {},
   "source": [
    "#### Practice\n",
    "\n",
    "Add arguments to your normal histogram function for mean and standard deviation (the first two arguments to `np.random.normal()`. Create an interaction with controls for all four arguments above or beside the histogram."
   ]
  },
  {
   "cell_type": "code",
   "execution_count": 57,
   "metadata": {},
   "outputs": [
    {
     "ename": "SyntaxError",
     "evalue": "invalid syntax (<ipython-input-57-56f39364f16f>, line 14)",
     "output_type": "error",
     "traceback": [
      "\u001b[1;36m  File \u001b[1;32m\"<ipython-input-57-56f39364f16f>\"\u001b[1;36m, line \u001b[1;32m14\u001b[0m\n\u001b[1;33m    out= widgets.interactive_output(normhist3, (\"mean\" : wmean,\u001b[0m\n\u001b[1;37m                                                       ^\u001b[0m\n\u001b[1;31mSyntaxError\u001b[0m\u001b[1;31m:\u001b[0m invalid syntax\n"
     ]
    }
   ],
   "source": [
    "def normhist3 (mean=10, sd=3, count=1000, tp=False):\n",
    "    data=np.random.normal(mean,sd,count)\n",
    "    #sns.distplot(data, kde=tp)\n",
    "    plt.hist(data, histtype='bar'if tp else 'step')\n",
    "    plt.show()\n",
    "\n",
    "#normhist3(count=10000000, tp=True)\n",
    "wmean= widgets.IntSlider (min=-1000, max=1000, description= \"mean\", continuous_update=False)\n",
    "wsd= widgets.InstSlider (min=-100, max=100, description= \"sd\", continuous_update=False)\n",
    "wcount= widgets.InstSlider (min=1000, max=10000000, description= \"n\", continuous_update=False)\n",
    "wtype= widgets.ToggleButton(True, description='Type')\n",
    "\n",
    "ui= widgets.HBox ((wmean, wsd, wcount, wtype))\n",
    "out= widgets.interactive_output(normhist3, (\"mean\" : wmean,\n",
    "                                            \"sd\": wsd,\n",
    "                                            \"count\": wcount,\n",
    "                                            \"tp\": wtype))\n",
    "\n",
    "display (ui, out)"
   ]
  },
  {
   "cell_type": "code",
   "execution_count": null,
   "metadata": {},
   "outputs": [],
   "source": []
  },
  {
   "cell_type": "code",
   "execution_count": null,
   "metadata": {},
   "outputs": [],
   "source": []
  }
 ],
 "metadata": {
  "kernelspec": {
   "display_name": "Python 3",
   "language": "python",
   "name": "python3"
  },
  "language_info": {
   "codemirror_mode": {
    "name": "ipython",
    "version": 3
   },
   "file_extension": ".py",
   "mimetype": "text/x-python",
   "name": "python",
   "nbconvert_exporter": "python",
   "pygments_lexer": "ipython3",
   "version": "3.7.3"
  }
 },
 "nbformat": 4,
 "nbformat_minor": 2
}
