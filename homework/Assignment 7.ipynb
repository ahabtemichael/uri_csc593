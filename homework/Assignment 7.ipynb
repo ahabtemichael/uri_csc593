{
 "cells": [
  {
   "cell_type": "markdown",
   "metadata": {},
   "source": [
    "# Assignment 7\n",
    "\n",
    "*(Due Saturday, November 2, 2019 at noon.)*"
   ]
  },
  {
   "cell_type": "code",
   "execution_count": 1,
   "metadata": {},
   "outputs": [],
   "source": [
    "import numpy as np\n",
    "import pandas as pd"
   ]
  },
  {
   "cell_type": "markdown",
   "metadata": {},
   "source": [
    "1) Load either your dataset, `brfss`, or `nhis` and create at least three derived fields from the data there. Ideally, these will be fields you'll need for your final project."
   ]
  },
  {
   "cell_type": "code",
   "execution_count": 19,
   "metadata": {},
   "outputs": [
    {
     "data": {
      "text/html": [
       "<div>\n",
       "<style scoped>\n",
       "    .dataframe tbody tr th:only-of-type {\n",
       "        vertical-align: middle;\n",
       "    }\n",
       "\n",
       "    .dataframe tbody tr th {\n",
       "        vertical-align: top;\n",
       "    }\n",
       "\n",
       "    .dataframe thead th {\n",
       "        text-align: right;\n",
       "    }\n",
       "</style>\n",
       "<table border=\"1\" class=\"dataframe\">\n",
       "  <thead>\n",
       "    <tr style=\"text-align: right;\">\n",
       "      <th></th>\n",
       "      <th>Code</th>\n",
       "      <th>GENDER</th>\n",
       "      <th>ETHNICITY</th>\n",
       "      <th>FIRST_GEN</th>\n",
       "      <th>HOME_CITY</th>\n",
       "      <th>HOME_STATE</th>\n",
       "      <th>PELL_IND</th>\n",
       "      <th>TD_IND</th>\n",
       "      <th>FERPA_FLG</th>\n",
       "      <th>PRIMARY_PROGRAM</th>\n",
       "      <th>...</th>\n",
       "      <th>CUM_GPA</th>\n",
       "      <th>SAT_SCORE</th>\n",
       "      <th>ACT_SCORE</th>\n",
       "      <th>HS_CONV_GPA</th>\n",
       "      <th>STEM_CRSE_COUNT_TERM</th>\n",
       "      <th>STEM_CRSE_COUNT_TOTAL</th>\n",
       "      <th>Exam One</th>\n",
       "      <th>Diagnostic Exam</th>\n",
       "      <th>First Module</th>\n",
       "      <th>Subject Enhancement Project</th>\n",
       "    </tr>\n",
       "  </thead>\n",
       "  <tbody>\n",
       "    <tr>\n",
       "      <th>0</th>\n",
       "      <td>100</td>\n",
       "      <td>F</td>\n",
       "      <td>2+ Races</td>\n",
       "      <td>Y</td>\n",
       "      <td>Seekonk</td>\n",
       "      <td>MA</td>\n",
       "      <td>N</td>\n",
       "      <td>N</td>\n",
       "      <td>N</td>\n",
       "      <td>UC_PH</td>\n",
       "      <td>...</td>\n",
       "      <td>0.00</td>\n",
       "      <td>1110</td>\n",
       "      <td>0</td>\n",
       "      <td>3.1</td>\n",
       "      <td>3</td>\n",
       "      <td>3</td>\n",
       "      <td>48.0</td>\n",
       "      <td>70</td>\n",
       "      <td>5.0</td>\n",
       "      <td>50</td>\n",
       "    </tr>\n",
       "    <tr>\n",
       "      <th>1</th>\n",
       "      <td>101</td>\n",
       "      <td>M</td>\n",
       "      <td>2+ Races</td>\n",
       "      <td>Y</td>\n",
       "      <td>Exeter</td>\n",
       "      <td>RI</td>\n",
       "      <td>Y</td>\n",
       "      <td>N</td>\n",
       "      <td>N</td>\n",
       "      <td>UC_EL</td>\n",
       "      <td>...</td>\n",
       "      <td>0.00</td>\n",
       "      <td>0</td>\n",
       "      <td>0</td>\n",
       "      <td>NaN</td>\n",
       "      <td>1</td>\n",
       "      <td>1</td>\n",
       "      <td>50.0</td>\n",
       "      <td>75</td>\n",
       "      <td>6.0</td>\n",
       "      <td>50</td>\n",
       "    </tr>\n",
       "    <tr>\n",
       "      <th>2</th>\n",
       "      <td>102</td>\n",
       "      <td>M</td>\n",
       "      <td>2+ Races</td>\n",
       "      <td>N</td>\n",
       "      <td>Pawtucket</td>\n",
       "      <td>RI</td>\n",
       "      <td>Y</td>\n",
       "      <td>Y</td>\n",
       "      <td>N</td>\n",
       "      <td>UC_AS</td>\n",
       "      <td>...</td>\n",
       "      <td>1.93</td>\n",
       "      <td>0</td>\n",
       "      <td>0</td>\n",
       "      <td>NaN</td>\n",
       "      <td>1</td>\n",
       "      <td>1</td>\n",
       "      <td>13.0</td>\n",
       "      <td>50</td>\n",
       "      <td>0.0</td>\n",
       "      <td>0</td>\n",
       "    </tr>\n",
       "    <tr>\n",
       "      <th>3</th>\n",
       "      <td>103</td>\n",
       "      <td>F</td>\n",
       "      <td>2+ Races</td>\n",
       "      <td>Y</td>\n",
       "      <td>Cranston</td>\n",
       "      <td>RI</td>\n",
       "      <td>N</td>\n",
       "      <td>N</td>\n",
       "      <td>N</td>\n",
       "      <td>UC_EL</td>\n",
       "      <td>...</td>\n",
       "      <td>4.00</td>\n",
       "      <td>1140</td>\n",
       "      <td>0</td>\n",
       "      <td>4.1</td>\n",
       "      <td>2</td>\n",
       "      <td>2</td>\n",
       "      <td>92.0</td>\n",
       "      <td>90</td>\n",
       "      <td>12.0</td>\n",
       "      <td>50</td>\n",
       "    </tr>\n",
       "    <tr>\n",
       "      <th>4</th>\n",
       "      <td>104</td>\n",
       "      <td>M</td>\n",
       "      <td>2+ Races</td>\n",
       "      <td>N</td>\n",
       "      <td>Holbrook</td>\n",
       "      <td>NY</td>\n",
       "      <td>N</td>\n",
       "      <td>N</td>\n",
       "      <td>N</td>\n",
       "      <td>UC_EL</td>\n",
       "      <td>...</td>\n",
       "      <td>0.00</td>\n",
       "      <td>1020</td>\n",
       "      <td>0</td>\n",
       "      <td>NaN</td>\n",
       "      <td>2</td>\n",
       "      <td>2</td>\n",
       "      <td>40.0</td>\n",
       "      <td>60</td>\n",
       "      <td>0.0</td>\n",
       "      <td>0</td>\n",
       "    </tr>\n",
       "  </tbody>\n",
       "</table>\n",
       "<p>5 rows × 26 columns</p>\n",
       "</div>"
      ],
      "text/plain": [
       "   Code GENDER ETHNICITY FIRST_GEN  HOME_CITY HOME_STATE PELL_IND TD_IND  \\\n",
       "0   100      F  2+ Races         Y    Seekonk         MA        N      N   \n",
       "1   101      M  2+ Races         Y     Exeter         RI        Y      N   \n",
       "2   102      M  2+ Races         N  Pawtucket         RI        Y      Y   \n",
       "3   103      F  2+ Races         Y   Cranston         RI        N      N   \n",
       "4   104      M  2+ Races         N   Holbrook         NY        N      N   \n",
       "\n",
       "  FERPA_FLG PRIMARY_PROGRAM  ... CUM_GPA SAT_SCORE ACT_SCORE HS_CONV_GPA  \\\n",
       "0         N           UC_PH  ...    0.00      1110         0         3.1   \n",
       "1         N           UC_EL  ...    0.00         0         0         NaN   \n",
       "2         N           UC_AS  ...    1.93         0         0         NaN   \n",
       "3         N           UC_EL  ...    4.00      1140         0         4.1   \n",
       "4         N           UC_EL  ...    0.00      1020         0         NaN   \n",
       "\n",
       "   STEM_CRSE_COUNT_TERM  STEM_CRSE_COUNT_TOTAL  Exam One  Diagnostic Exam   \\\n",
       "0                     3                      3      48.0                70   \n",
       "1                     1                      1      50.0                75   \n",
       "2                     1                      1      13.0                50   \n",
       "3                     2                      2      92.0                90   \n",
       "4                     2                      2      40.0                60   \n",
       "\n",
       "   First Module   Subject Enhancement Project  \n",
       "0            5.0                           50  \n",
       "1            6.0                           50  \n",
       "2            0.0                            0  \n",
       "3           12.0                           50  \n",
       "4            0.0                            0  \n",
       "\n",
       "[5 rows x 26 columns]"
      ]
     },
     "execution_count": 19,
     "metadata": {},
     "output_type": "execute_result"
    }
   ],
   "source": [
    "proj=pd.read_excel('../dataset/CSC_project.xlsx')\n",
    "proj.head()"
   ]
  },
  {
   "cell_type": "code",
   "execution_count": 32,
   "metadata": {
    "collapsed": true
   },
   "outputs": [
    {
     "name": "stdout",
     "output_type": "stream",
     "text": [
      "Index(['Code', 'GENDER', 'ETHNICITY', 'FIRST_GEN', 'HOME_CITY', 'HOME_STATE',\n",
      "       'PELL_IND', 'TD_IND', 'FERPA_FLG', 'PRIMARY_PROGRAM', 'PRIM_PROG_DESCR',\n",
      "       'ACAD_PLAN1', 'ACAD_PLAN1_DESCR', 'ACAD_LEVEL', 'UNITS_TAKING',\n",
      "       'TOT_CUM_CREDITS', 'CUM_GPA', 'SAT_SCORE', 'ACT_SCORE', 'HS_CONV_GPA',\n",
      "       'STEM_CRSE_COUNT_TERM', 'STEM_CRSE_COUNT_TOTAL', 'Exam One',\n",
      "       'Diagnostic Exam ', 'First Module ', 'Subject Enhancement Project'],\n",
      "      dtype='object')\n",
      "Index(['Code', 'GENDER', 'ETHNICITY', 'FIRST_GEN', 'HOME_CITY', 'HOME_STATE',\n",
      "       'PELL_IND', 'TD_IND', 'FERPA_FLG', 'PRIMARY_PROGRAM', 'PRIM_PROG_DESCR',\n",
      "       'ACAD_PLAN1', 'ACAD_PLAN1_DESCR', 'ACAD_LEVEL', 'UNITS_TAKING',\n",
      "       'TOT_CUM_CREDITS', 'CUM_GPA', 'SAT_SCORE', 'ACT_SCORE', 'HS_CONV_GPA',\n",
      "       'STEM_CRSE_COUNT_TERM', 'STEM_CRSE_COUNT_TOTAL', 'Exam1',\n",
      "       'Diagnostic Exam ', 'First Module ', 'Subject Enhancement Project'],\n",
      "      dtype='object')\n"
     ]
    }
   ],
   "source": [
    "proj_pd=pd.DataFrame(proj)\n",
    "print (proj_pd.columns)\n",
    "proj_pd.rename(columns= {'Exam One':'Exam1','Diagnostic Exam':'DigEx','First Module':'Mod1'},inplace=True)\n",
    "print (proj_pd.columns)"
   ]
  },
  {
   "cell_type": "code",
   "execution_count": 37,
   "metadata": {},
   "outputs": [],
   "source": [
    "proj_pd.dropna(subset=['Exam1'], inplace=True)"
   ]
  },
  {
   "cell_type": "code",
   "execution_count": null,
   "metadata": {},
   "outputs": [],
   "source": [
    "proj_pd['SUM']= proj.Exam1 + proj.DigEx + proj.Mod1.astype(np.int8)"
   ]
  },
  {
   "cell_type": "code",
   "execution_count": null,
   "metadata": {},
   "outputs": [],
   "source": [
    "proj_pd['Average'] = proj_pd.SUM/210.astype(np.int16)\n"
   ]
  },
  {
   "cell_type": "code",
   "execution_count": null,
   "metadata": {},
   "outputs": [],
   "source": [
    "proj_pd['Predict']= np.where(proj_pd.SUM==80, proj_pd.Average*2).astype(np.int16)"
   ]
  },
  {
   "cell_type": "code",
   "execution_count": null,
   "metadata": {},
   "outputs": [],
   "source": [
    "CSC_project"
   ]
  },
  {
   "cell_type": "markdown",
   "metadata": {},
   "source": [
    "2) Run the following cell."
   ]
  },
  {
   "cell_type": "code",
   "execution_count": null,
   "metadata": {},
   "outputs": [],
   "source": [
    "import seaborn as sns\n",
    "sns.__version__"
   ]
  },
  {
   "cell_type": "markdown",
   "metadata": {},
   "source": [
    "#### Submitting\n",
    "\n",
    "In the Terminal (Mac) or Git Bash (Windows):\n",
    "\n",
    "`git commit -a -m 'Assignment 7 completed'`  \n",
    "`git push`"
   ]
  },
  {
   "cell_type": "markdown",
   "metadata": {},
   "source": [
    "### Reading\n",
    "\n",
    "1. [_Python for Data Analysis_](https://uri-primo.hosted.exlibrisgroup.com/permalink/f/10nopmq/01URI_ALMA51209454630002396):\n",
    "    * Chapter 9"
   ]
  }
 ],
 "metadata": {
  "kernelspec": {
   "display_name": "Python 3",
   "language": "python",
   "name": "python3"
  },
  "language_info": {
   "codemirror_mode": {
    "name": "ipython",
    "version": 3
   },
   "file_extension": ".py",
   "mimetype": "text/x-python",
   "name": "python",
   "nbconvert_exporter": "python",
   "pygments_lexer": "ipython3",
   "version": "3.7.3"
  }
 },
 "nbformat": 4,
 "nbformat_minor": 2
}
