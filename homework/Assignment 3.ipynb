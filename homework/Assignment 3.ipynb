{
 "cells": [
  {
   "cell_type": "markdown",
   "metadata": {},
   "source": [
    "# Assignment 3\n",
    "\n",
    "*(Due Saturday, October 5, 2019 at noon.)*"
   ]
  },
  {
   "cell_type": "code",
   "execution_count": 1,
   "metadata": {},
   "outputs": [],
   "source": [
    "xml = \"\"\"\n",
    "<data>\n",
    "    <citation><author> T. Fahringer, R. Blasko, and H. Zima. </author> <title> Automatic performance prediction to support parallelization of Fortran programs for massively parallel systems. </title> <booktitle> In Proceedings of the 1992 ACM International Conference on Supercomputing, </booktitle> <location> Washington, DC, </location> <date> July 1992. </date></citation>\n",
    "    <citation><author> A. D. Kallis and D. Klappholz, </author> <title> ``Reaching definitions analysis on code containing array references,'' </title> <booktitle> Conf. Rec. of the 4th Workshop on Languages and Compilers for Parallel Computing, </booktitle> <date> Aug. 1991. </date></citation>\n",
    "    <citation><author> R. Fletcher. </author> <title> Practical Methods of Optimization. </title> <publisher> John Wiley &amp; Sons, </publisher> <date> 1987. </date></citation>\n",
    "    <citation><author> Clark, K. L., </author> <title> Negation as Failure, </title> <editor> in: H. Gallaire and J. Minker (eds.), </editor> <booktitle> Logic and Data Bases, </booktitle> <publisher> Plenum Press, </publisher> <location> New York, </location> <date> 1978. </date></citation>\n",
    "    <citation><author> Gent, I. P., &amp; Walsh, T. </author> <date> (1994a). </date> <title> Easy problems are sometimes hard. </title> <journal> Artificial Intelligence, </journal> <volume> 70, </volume> <pages> 335-345. </pages></citation>\n",
    "</data>\n",
    "\"\"\""
   ]
  },
  {
   "cell_type": "markdown",
   "metadata": {},
   "source": [
    "### Task\n",
    "\n",
    "Copy your `Citation` class here from your class notes, then:\n",
    "\n",
    "1. Write a function that takes the XML above and outputs a list of `Citation` objects containing the data from the XML. \n",
    "2. Run the function, loop over the `Citation`s, and prints the output of each one's `complete()` method."
   ]
  },
  {
   "cell_type": "code",
   "execution_count": 20,
   "metadata": {},
   "outputs": [
    {
     "name": "stdout",
     "output_type": "stream",
     "text": [
      "T. Fahringer, R. Blasko, and H. Zima.\n"
     ]
    }
   ],
   "source": [
    "citation = {\n",
    "    'author':             'T. Fahringer, R. Blasko, and H. Zima.',\n",
    "    'title':              \"Automatic performance prediction to support parallelization of Fortran programs for massively parallel systems.\",\n",
    "    'journal':            None,\n",
    "    'volume':             None,\n",
    "    'number':             None,\n",
    "    'book_title':         \"In Proceedings of the 1992 ACM International Conference on Supercomputing,\",\n",
    "    'date':               \"1992\"\n",
    "}\n",
    "\n",
    "print(citation['author'])\n",
    "\n",
    "citations = []\n",
    "citations.append(citation)\n"
   ]
  },
  {
   "cell_type": "code",
   "execution_count": 50,
   "metadata": {},
   "outputs": [
    {
     "name": "stdout",
     "output_type": "stream",
     "text": [
      "[{'author': 'T. Fahringer, R. Blasko, and H. Zima.', 'title': 'Automatic performance prediction to support parallelization of Fortran programs for massively parallel systems.', 'journal': None, 'volume': None, 'number': None, 'book_title': 'In Proceedings of the 1992 ACM International Conference on Supercomputing,', 'date': '1992'}, {'author': 'A. D. Kallis and D. Klappholz,', 'title': 'Reaching definitions analysis on code containing array references,', 'journal': None, 'volume': None, 'number': None, 'book_title': 'Conf. Rec. of the 4th Workshop on Languages and Compilers for Parallel Computing,', 'date': '1991'}, {'author': 'R. Fletcher.', 'title': 'Practical Methods of Optimization.', 'journal': None, 'volume': None, 'number': None, 'book_title': None, 'publisher': 'John Wiley &amp; Sons,', 'date': '1987'}, {'author': 'Clark, K. L.', 'title': 'Negation as Failure,', 'journal': None, 'volume': None, 'number': None, 'editor': 'in: H. Gallaire and J. Minker (eds.),', 'book_title': 'Logic and Data Bases,', 'publiser': 'Plenum Press,', 'date': '1978'}, {'author': 'Gent, I. P., &amp; Walsh, T.', 'title': 'Easy problems are sometimes hard.', 'journal': 'Artificial Intelligence,', 'volume': '70', 'number': None, 'pages': '335-345', 'book_title': None, 'date': '1994'}, {'author': 'A. D. Kallis and D. Klappholz,', 'title': 'Reaching definitions analysis on code containing array references,', 'journal': None, 'volume': None, 'number': None, 'book_title': 'Conf. Rec. of the 4th Workshop on Languages and Compilers for Parallel Computing,', 'date': '1991'}, {'author': 'R. Fletcher.', 'title': 'Practical Methods of Optimization.', 'journal': None, 'volume': None, 'number': None, 'book_title': None, 'publisher': 'John Wiley &amp; Sons,', 'date': '1987'}, {'author': 'Clark, K. L.', 'title': 'Negation as Failure,', 'journal': None, 'volume': None, 'number': None, 'editor': 'in: H. Gallaire and J. Minker (eds.),', 'book_title': 'Logic and Data Bases,', 'publiser': 'Plenum Press,', 'date': '1978'}, {'author': 'Gent, I. P., &amp; Walsh, T.', 'title': 'Easy problems are sometimes hard.', 'journal': 'Artificial Intelligence,', 'volume': '70', 'number': None, 'pages': '335-345', 'book_title': None, 'date': '1994'}, {'author': 'A. D. Kallis and D. Klappholz,', 'title': 'Reaching definitions analysis on code containing array references,', 'journal': None, 'volume': None, 'number': None, 'book_title': 'Conf. Rec. of the 4th Workshop on Languages and Compilers for Parallel Computing,', 'date': '1991'}, {'author': 'R. Fletcher.', 'title': 'Practical Methods of Optimization.', 'journal': None, 'volume': None, 'number': None, 'book_title': None, 'publisher': 'John Wiley &amp; Sons,', 'date': '1987'}, {'author': 'Clark, K. L.', 'title': 'Negation as Failure,', 'journal': None, 'volume': None, 'number': None, 'editor': 'in: H. Gallaire and J. Minker (eds.),', 'book_title': 'Logic and Data Bases,', 'publiser': 'Plenum Press,', 'date': '1978'}, {'author': 'Gent, I. P., &amp; Walsh, T.', 'title': 'Easy problems are sometimes hard.', 'journal': 'Artificial Intelligence,', 'volume': '70', 'number': None, 'pages': '335-345', 'book_title': None, 'date': '1994'}, {'author': 'A. D. Kallis and D. Klappholz,', 'title': 'Reaching definitions analysis on code containing array references,', 'journal': None, 'volume': None, 'number': None, 'book_title': 'Conf. Rec. of the 4th Workshop on Languages and Compilers for Parallel Computing,', 'date': '1991'}, {'author': 'R. Fletcher.', 'title': 'Practical Methods of Optimization.', 'journal': None, 'volume': None, 'number': None, 'book_title': None, 'publisher': 'John Wiley &amp; Sons,', 'date': '1987'}, {'author': 'Clark, K. L.', 'title': 'Negation as Failure,', 'journal': None, 'volume': None, 'number': None, 'editor': 'in: H. Gallaire and J. Minker (eds.),', 'book_title': 'Logic and Data Bases,', 'publiser': 'Plenum Press,', 'date': '1978'}, {'author': 'Gent, I. P., &amp; Walsh, T.', 'title': 'Easy problems are sometimes hard.', 'journal': 'Artificial Intelligence,', 'volume': '70', 'number': None, 'pages': '335-345', 'book_title': None, 'date': '1994'}, {'author': 'A. D. Kallis and D. Klappholz,', 'title': 'Reaching definitions analysis on code containing array references,', 'journal': None, 'volume': None, 'number': None, 'book_title': 'Conf. Rec. of the 4th Workshop on Languages and Compilers for Parallel Computing,', 'date': '1991'}, {'author': 'R. Fletcher.', 'title': 'Practical Methods of Optimization.', 'journal': None, 'volume': None, 'number': None, 'book_title': None, 'publisher': 'John Wiley &amp; Sons,', 'date': '1987'}, {'author': 'Clark, K. L.', 'title': 'Negation as Failure,', 'journal': None, 'volume': None, 'number': None, 'editor': 'in: H. Gallaire and J. Minker (eds.),', 'book_title': 'Logic and Data Bases,', 'publiser': 'Plenum Press,', 'date': '1978'}, {'author': 'Gent, I. P., &amp; Walsh, T.', 'title': 'Easy problems are sometimes hard.', 'journal': 'Artificial Intelligence,', 'volume': '70,', 'number': None, 'pages': '335-345', 'book_title': None, 'date': '1994'}, {'author': 'A. D. Kallis and D. Klappholz,', 'title': 'Reaching definitions analysis on code containing array references,', 'journal': None, 'volume': None, 'number': None, 'book_title': 'Conf. Rec. of the 4th Workshop on Languages and Compilers for Parallel Computing,', 'date': '1991'}, {'author': 'R. Fletcher.', 'title': 'Practical Methods of Optimization.', 'journal': None, 'volume': None, 'number': None, 'book_title': None, 'publisher': 'John Wiley &amp; Sons,', 'date': '1987'}, {'author': 'Clark, K. L.', 'title': 'Negation as Failure,', 'journal': None, 'volume': None, 'number': None, 'editor': 'in: H. Gallaire and J. Minker (eds.),', 'book_title': 'Logic and Data Bases,', 'publiser': 'Plenum Press,', 'date': '1978'}, {'author': 'Gent, I. P., &amp; Walsh, T.', 'title': 'Easy problems are sometimes hard.', 'journal': 'Artificial Intelligence,', 'volume': '70,', 'number': None, 'pages': '335-345', 'book_title': None, 'date': '1994'}, {'author': 'A. D. Kallis and D. Klappholz,', 'title': 'Reaching definitions analysis on code containing array references,', 'journal': None, 'volume': None, 'number': None, 'book_title': 'Conf. Rec. of the 4th Workshop on Languages and Compilers for Parallel Computing,', 'date': '1991'}, {'author': 'R. Fletcher.', 'title': 'Practical Methods of Optimization.', 'journal': None, 'volume': None, 'number': None, 'book_title': None, 'publisher': 'John Wiley &amp; Sons,', 'date': '1987'}, {'author': 'Clark, K. L.', 'title': 'Negation as Failure,', 'journal': None, 'volume': None, 'number': None, 'editor': 'in: H. Gallaire and J. Minker (eds.),', 'book_title': 'Logic and Data Bases,', 'publiser': 'Plenum Press,', 'date': '1978'}, {'author': 'Gent, I. P., &amp; Walsh, T.', 'title': 'Easy problems are sometimes hard.', 'journal': 'Artificial Intelligence,', 'volume': '70.', 'number': None, 'pages': '335-345', 'book_title': None, 'date': '1994'}, {'author': 'A. D. Kallis and D. Klappholz,', 'title': 'Reaching definitions analysis on code containing array references,', 'journal': None, 'volume': None, 'number': None, 'book_title': 'Conf. Rec. of the 4th Workshop on Languages and Compilers for Parallel Computing,', 'date': '1991'}, {'author': 'R. Fletcher.', 'title': 'Practical Methods of Optimization.', 'journal': None, 'volume': None, 'number': None, 'book_title': None, 'publisher': 'John Wiley &amp; Sons,', 'date': '1987'}, {'author': 'Clark, K. L.', 'title': 'Negation as Failure,', 'journal': None, 'volume': None, 'number': None, 'editor': 'in: H. Gallaire and J. Minker (eds.),', 'book_title': 'Logic and Data Bases,', 'publiser': 'Plenum Press,', 'date': '1978'}, {'author': 'Gent, I. P., &amp; Walsh, T.', 'title': 'Easy problems are sometimes hard.', 'journal': 'Artificial Intelligence,', 'volume': '70.', 'number': None, 'pages': '(335-345),', 'book_title': None, 'date': '1994'}]\n"
     ]
    }
   ],
   "source": [
    "citation={'author':       'A. D. Kallis and D. Klappholz,',\n",
    "             'title':     \"Reaching definitions analysis on code containing array references,\",\n",
    "             'journal':    None,\n",
    "             'volume':     None,\n",
    "             'number':     None,\n",
    "             'book_title': \"Conf. Rec. of the 4th Workshop on Languages and Compilers for Parallel Computing,\",\n",
    "             'date':       \"1991\"\n",
    "}\n",
    "citations.append(citation)\n",
    "citation={'author':\"R. Fletcher.\",\n",
    "               'title':\"Practical Methods of Optimization.\",\n",
    "               'journal':None,\n",
    "               'volume': None,\n",
    "               'number': None,\n",
    "               'book_title':None,\n",
    "               'publisher':\"John Wiley &amp; Sons,\",\n",
    "               'date': \"1987\"}\n",
    "citations.append(citation)\n",
    "citation={'author':\"Clark, K. L.\",\n",
    "               'title':\"Negation as Failure,\",\n",
    "               'journal':None,\n",
    "               'volume': None,\n",
    "               'number': None,\n",
    "               'editor':\"in: H. Gallaire and J. Minker (eds.),\",\n",
    "               'book_title':\"Logic and Data Bases,\",\n",
    "               'publiser':\"Plenum Press,\",\n",
    "               'date': \"1978\"}\n",
    "citations.append(citation)\n",
    "citation={'author':\"Gent, I. P., &amp; Walsh, T.\",\n",
    "               'title':\"Easy problems are sometimes hard.\",\n",
    "               'journal':\"Artificial Intelligence,\",\n",
    "               'volume': '70.',\n",
    "               'number': None,\n",
    "               'pages':\"(335-345),\",\n",
    "               'book_title':None,\n",
    "               'date': \"1994\"}\n",
    "citations.append(citation)\n",
    "print(citations)"
   ]
  },
  {
   "cell_type": "code",
   "execution_count": 54,
   "metadata": {},
   "outputs": [
    {
     "name": "stdout",
     "output_type": "stream",
     "text": [
      "T. Fahringer, R. Blasko, and H. Zima.Automatic performance prediction to support parallelization of Fortran programs for massively parallel systems.In Proceedings of the 1992 ACM International Conference on Supercomputing,1992\n"
     ]
    }
   ],
   "source": [
    "class XML:\n",
    "    def __init__(self, details):\n",
    "        self.author = details['author']\n",
    "        self.title = details['title']\n",
    "        if 'journal' in details:\n",
    "            self.journal = details['journal']\n",
    "        else:\n",
    "            self.journal = None\n",
    "        if 'volume' in details:\n",
    "            self.volume = details['volume']\n",
    "        else:\n",
    "            self.volume = None\n",
    "        \n",
    "        if 'number' in details:\n",
    "            self.number = details['number']\n",
    "        else:\n",
    "            self.number = None\n",
    "        if 'book_title' in details:\n",
    "            self.book_title = details['book_title']\n",
    "        else:\n",
    "            self.book_title = None\n",
    "        if 'pages' in details:\n",
    "            self.pages= details['pages']\n",
    "        else:\n",
    "            self.pages = None\n",
    "        if 'editor' in details:\n",
    "            self.editor= details['editor']\n",
    "        else:\n",
    "            self.editor= None\n",
    "        if 'date' in details:\n",
    "            self.date = details['date']\n",
    "        else:\n",
    "            self.date= None\n",
    "        \n",
    "        \n",
    "    def names(self):\n",
    "        return self.author.split(',')\n",
    "       \n",
    "    def complete(self):\n",
    "        output= self.author + self.title\n",
    "        if self.journal:\n",
    "            output= output + self.journal\n",
    "        if self.volume:\n",
    "            output= output + self.volume\n",
    "        if self.number:\n",
    "            output= output + self.number\n",
    "        if self.book_title:\n",
    "            output= output + self.book_title\n",
    "        if self.pages:\n",
    "            output= output + self.pages\n",
    "        if self.editor:\n",
    "            output= output + self.editor\n",
    "        if self.date:\n",
    "            output= output + self.date\n",
    "        print(output)\n",
    "        \n",
    "c=XML(citations[0])\n",
    "c.complete()"
   ]
  },
  {
   "cell_type": "markdown",
   "metadata": {},
   "source": [
    "#### Submitting\n",
    "\n",
    "In the Terminal (Mac) or Git Bash (Windows):\n",
    "\n",
    "`git commit -a -m 'Assignment 3 completed'`  \n",
    "`git push`"
   ]
  },
  {
   "cell_type": "markdown",
   "metadata": {},
   "source": [
    "### Reading for next week\n",
    "\n",
    "Read these sections on learnpython.org...  \n",
    "1. [List Comprehensions](https://www.learnpython.org/en/List_Comprehensions)\n",
    "2. [Multiple Function Arguments](https://www.learnpython.org/en/Multiple_Function_Arguments)\n",
    "\n",
    "Or these sections of The Python Tutorial.\n",
    "1. [5.1.3 and 5.1.4](https://docs.python.org/3/tutorial/datastructures.html#list-comprehensions)\n",
    "1. [4.7](https://docs.python.org/3/tutorial/controlflow.html#more-on-defining-functions)"
   ]
  }
 ],
 "metadata": {
  "kernelspec": {
   "display_name": "Python 3",
   "language": "python",
   "name": "python3"
  },
  "language_info": {
   "codemirror_mode": {
    "name": "ipython",
    "version": 3
   },
   "file_extension": ".py",
   "mimetype": "text/x-python",
   "name": "python",
   "nbconvert_exporter": "python",
   "pygments_lexer": "ipython3",
   "version": "3.7.3"
  }
 },
 "nbformat": 4,
 "nbformat_minor": 2
}
