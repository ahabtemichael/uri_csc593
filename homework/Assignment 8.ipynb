{
 "cells": [
  {
   "cell_type": "markdown",
   "metadata": {},
   "source": [
    "# Assignment 8\n",
    "\n",
    "*(Due Saturday, November 16, 2019 at noon.)*"
   ]
  },
  {
   "cell_type": "code",
   "execution_count": 3,
   "metadata": {},
   "outputs": [],
   "source": [
    "import numpy as np\n",
    "import pandas as pd\n",
    "import matplotlib.pyplot as plt\n",
    "import seaborn as sns\n",
    "\n",
    "%matplotlib notebook"
   ]
  },
  {
   "cell_type": "markdown",
   "metadata": {},
   "source": [
    "Load your dataset and create at least one visualization involving at least two variables (columns). Explain the relevance of this graph in the Markdown cell below, and use comments to document the code you use to produce it."
   ]
  },
  {
   "cell_type": "markdown",
   "metadata": {},
   "source": [
    "The two plots below are the same one but in different forms. They show the relationship between the columns ethnicity and diagnostic exam. The relevance of the plots in the project at hand is that it might show a reflection of the effects of students background can influence their performance in education. Here the diagnostic exam results are meant to show the prepartation of the students for that class in their prior educational journey.The field ethnicity is used as a proxy for earlier educational background, family structure, and access to resources. "
   ]
  },
  {
   "cell_type": "code",
   "execution_count": 4,
   "metadata": {},
   "outputs": [
    {
     "data": {
      "text/html": [
       "<div>\n",
       "<style scoped>\n",
       "    .dataframe tbody tr th:only-of-type {\n",
       "        vertical-align: middle;\n",
       "    }\n",
       "\n",
       "    .dataframe tbody tr th {\n",
       "        vertical-align: top;\n",
       "    }\n",
       "\n",
       "    .dataframe thead th {\n",
       "        text-align: right;\n",
       "    }\n",
       "</style>\n",
       "<table border=\"1\" class=\"dataframe\">\n",
       "  <thead>\n",
       "    <tr style=\"text-align: right;\">\n",
       "      <th></th>\n",
       "      <th>Code</th>\n",
       "      <th>GENDER</th>\n",
       "      <th>ETHNICITY</th>\n",
       "      <th>FIRST_GEN</th>\n",
       "      <th>HOME_CITY</th>\n",
       "      <th>HOME_STATE</th>\n",
       "      <th>PELL_IND</th>\n",
       "      <th>TD_IND</th>\n",
       "      <th>FERPA_FLG</th>\n",
       "      <th>PRIMARY_PROGRAM</th>\n",
       "      <th>...</th>\n",
       "      <th>CUM_GPA</th>\n",
       "      <th>SAT_SCORE</th>\n",
       "      <th>ACT_SCORE</th>\n",
       "      <th>HS_CONV_GPA</th>\n",
       "      <th>STEM_CRSE_COUNT_TERM</th>\n",
       "      <th>STEM_CRSE_COUNT_TOTAL</th>\n",
       "      <th>Exam One</th>\n",
       "      <th>Diagnostic Exam</th>\n",
       "      <th>First Module</th>\n",
       "      <th>Subject Enhancement Project</th>\n",
       "    </tr>\n",
       "  </thead>\n",
       "  <tbody>\n",
       "    <tr>\n",
       "      <th>0</th>\n",
       "      <td>100</td>\n",
       "      <td>F</td>\n",
       "      <td>2+ Races</td>\n",
       "      <td>Y</td>\n",
       "      <td>Seekonk</td>\n",
       "      <td>MA</td>\n",
       "      <td>N</td>\n",
       "      <td>N</td>\n",
       "      <td>N</td>\n",
       "      <td>UC_PH</td>\n",
       "      <td>...</td>\n",
       "      <td>0.00</td>\n",
       "      <td>1110</td>\n",
       "      <td>0</td>\n",
       "      <td>3.1</td>\n",
       "      <td>3</td>\n",
       "      <td>3</td>\n",
       "      <td>48.0</td>\n",
       "      <td>70</td>\n",
       "      <td>5.0</td>\n",
       "      <td>50</td>\n",
       "    </tr>\n",
       "    <tr>\n",
       "      <th>1</th>\n",
       "      <td>101</td>\n",
       "      <td>M</td>\n",
       "      <td>2+ Races</td>\n",
       "      <td>Y</td>\n",
       "      <td>Exeter</td>\n",
       "      <td>RI</td>\n",
       "      <td>Y</td>\n",
       "      <td>N</td>\n",
       "      <td>N</td>\n",
       "      <td>UC_EL</td>\n",
       "      <td>...</td>\n",
       "      <td>0.00</td>\n",
       "      <td>0</td>\n",
       "      <td>0</td>\n",
       "      <td>NaN</td>\n",
       "      <td>1</td>\n",
       "      <td>1</td>\n",
       "      <td>50.0</td>\n",
       "      <td>75</td>\n",
       "      <td>6.0</td>\n",
       "      <td>50</td>\n",
       "    </tr>\n",
       "    <tr>\n",
       "      <th>2</th>\n",
       "      <td>102</td>\n",
       "      <td>M</td>\n",
       "      <td>2+ Races</td>\n",
       "      <td>N</td>\n",
       "      <td>Pawtucket</td>\n",
       "      <td>RI</td>\n",
       "      <td>Y</td>\n",
       "      <td>Y</td>\n",
       "      <td>N</td>\n",
       "      <td>UC_AS</td>\n",
       "      <td>...</td>\n",
       "      <td>1.93</td>\n",
       "      <td>0</td>\n",
       "      <td>0</td>\n",
       "      <td>NaN</td>\n",
       "      <td>1</td>\n",
       "      <td>1</td>\n",
       "      <td>13.0</td>\n",
       "      <td>50</td>\n",
       "      <td>0.0</td>\n",
       "      <td>0</td>\n",
       "    </tr>\n",
       "    <tr>\n",
       "      <th>3</th>\n",
       "      <td>103</td>\n",
       "      <td>F</td>\n",
       "      <td>2+ Races</td>\n",
       "      <td>Y</td>\n",
       "      <td>Cranston</td>\n",
       "      <td>RI</td>\n",
       "      <td>N</td>\n",
       "      <td>N</td>\n",
       "      <td>N</td>\n",
       "      <td>UC_EL</td>\n",
       "      <td>...</td>\n",
       "      <td>4.00</td>\n",
       "      <td>1140</td>\n",
       "      <td>0</td>\n",
       "      <td>4.1</td>\n",
       "      <td>2</td>\n",
       "      <td>2</td>\n",
       "      <td>92.0</td>\n",
       "      <td>90</td>\n",
       "      <td>12.0</td>\n",
       "      <td>50</td>\n",
       "    </tr>\n",
       "    <tr>\n",
       "      <th>4</th>\n",
       "      <td>104</td>\n",
       "      <td>M</td>\n",
       "      <td>2+ Races</td>\n",
       "      <td>N</td>\n",
       "      <td>Holbrook</td>\n",
       "      <td>NY</td>\n",
       "      <td>N</td>\n",
       "      <td>N</td>\n",
       "      <td>N</td>\n",
       "      <td>UC_EL</td>\n",
       "      <td>...</td>\n",
       "      <td>0.00</td>\n",
       "      <td>1020</td>\n",
       "      <td>0</td>\n",
       "      <td>NaN</td>\n",
       "      <td>2</td>\n",
       "      <td>2</td>\n",
       "      <td>40.0</td>\n",
       "      <td>60</td>\n",
       "      <td>0.0</td>\n",
       "      <td>0</td>\n",
       "    </tr>\n",
       "  </tbody>\n",
       "</table>\n",
       "<p>5 rows × 26 columns</p>\n",
       "</div>"
      ],
      "text/plain": [
       "   Code GENDER ETHNICITY FIRST_GEN  HOME_CITY HOME_STATE PELL_IND TD_IND  \\\n",
       "0   100      F  2+ Races         Y    Seekonk         MA        N      N   \n",
       "1   101      M  2+ Races         Y     Exeter         RI        Y      N   \n",
       "2   102      M  2+ Races         N  Pawtucket         RI        Y      Y   \n",
       "3   103      F  2+ Races         Y   Cranston         RI        N      N   \n",
       "4   104      M  2+ Races         N   Holbrook         NY        N      N   \n",
       "\n",
       "  FERPA_FLG PRIMARY_PROGRAM  ... CUM_GPA SAT_SCORE ACT_SCORE HS_CONV_GPA  \\\n",
       "0         N           UC_PH  ...    0.00      1110         0         3.1   \n",
       "1         N           UC_EL  ...    0.00         0         0         NaN   \n",
       "2         N           UC_AS  ...    1.93         0         0         NaN   \n",
       "3         N           UC_EL  ...    4.00      1140         0         4.1   \n",
       "4         N           UC_EL  ...    0.00      1020         0         NaN   \n",
       "\n",
       "   STEM_CRSE_COUNT_TERM  STEM_CRSE_COUNT_TOTAL  Exam One  Diagnostic Exam   \\\n",
       "0                     3                      3      48.0                70   \n",
       "1                     1                      1      50.0                75   \n",
       "2                     1                      1      13.0                50   \n",
       "3                     2                      2      92.0                90   \n",
       "4                     2                      2      40.0                60   \n",
       "\n",
       "   First Module   Subject Enhancement Project  \n",
       "0            5.0                           50  \n",
       "1            6.0                           50  \n",
       "2            0.0                            0  \n",
       "3           12.0                           50  \n",
       "4            0.0                            0  \n",
       "\n",
       "[5 rows x 26 columns]"
      ]
     },
     "execution_count": 4,
     "metadata": {},
     "output_type": "execute_result"
    }
   ],
   "source": [
    "proj=pd.read_excel('../dataset/CSC_project.xlsx')\n",
    "proj.head()"
   ]
  },
  {
   "cell_type": "code",
   "execution_count": 23,
   "metadata": {},
   "outputs": [
    {
     "data": {
      "image/png": "[encoded data removed]",
      "text/plain": [
       "<Figure size 432x288 with 1 Axes>"
      ]
     },
     "metadata": {
      "needs_background": "light"
     },
     "output_type": "display_data"
    },
    {
     "data": {
      "text/plain": [
       "ETHNICITY\n",
       "2+ Races                   0\n",
       "Asian                     55\n",
       "Black/African American    15\n",
       "Hispanic/Latino            0\n",
       "Not Specified             60\n",
       "White                      0\n",
       "Name: Diagnostic Exam , dtype: int64"
      ]
     },
     "execution_count": 23,
     "metadata": {},
     "output_type": "execute_result"
    }
   ],
   "source": [
    "proj.groupby('ETHNICITY').mean()['Diagnostic Exam ']\n",
    "pmax = proj.groupby('ETHNICITY').max()['Diagnostic Exam ']\n",
    "pmin = proj.groupby('ETHNICITY').min()['Diagnostic Exam ']\n",
    "pdata = pd.DataFrame({'max': pmax,'min':pmin})\n",
    "pdata.plot.bar()\n",
    "plt.ylim(0, 150)\n",
    "plt.title('EFFECTS OF BACKGROUND ON STUDENT EDUCATIONAL PROGRESS')\n",
    "plt.show()\n",
    "pmin"
   ]
  },
  {
   "cell_type": "code",
   "execution_count": 24,
   "metadata": {},
   "outputs": [
    {
     "data": {
      "image/png": "[encoded data removed]",
      "text/plain": [
       "<Figure size 1008x576 with 1 Axes>"
      ]
     },
     "metadata": {
      "needs_background": "light"
     },
     "output_type": "display_data"
    }
   ],
   "source": [
    "Progress=proj.groupby('ETHNICITY').mean()['Diagnostic Exam ']\n",
    "pmax = proj.groupby('ETHNICITY').max()['Diagnostic Exam ']\n",
    "pmin = proj.groupby('ETHNICITY').min()['Diagnostic Exam ']\n",
    "pdata = pd.DataFrame({'max': pmax,'min':pmin})\n",
    "fig, ax = plt.subplots(figsize=(14,8))\n",
    "ax.bar(Progress.index, pmax, bottom=pmin, color=['brown', 'green', 'blue','gray','magenta','yellow'])\n",
    "plt.ylim(0, 200)\n",
    "plt.title('EFFECTS OF BACKGROUND ON STUDENT EDUCATIONAL PROGRESS')\n",
    "plt.show()"
   ]
  },
  {
   "cell_type": "code",
   "execution_count": 8,
   "metadata": {},
   "outputs": [
    {
     "data": {
      "image/png": "[encoded data removed]",
      "text/plain": [
       "<Figure size 432x288 with 1 Axes>"
      ]
     },
     "metadata": {
      "needs_background": "light"
     },
     "output_type": "display_data"
    },
    {
     "data": {
      "text/plain": [
       "ETHNICITY               GENDER\n",
       "2+ Races                F         50\n",
       "                        M          0\n",
       "Asian                   F         65\n",
       "                        M         55\n",
       "Black/African American  F         55\n",
       "                        M         15\n",
       "Hispanic/Latino         F          5\n",
       "                        M          0\n",
       "Not Specified           F         60\n",
       "                        M         95\n",
       "White                   F          0\n",
       "                        M          5\n",
       "Name: Diagnostic Exam , dtype: int64"
      ]
     },
     "execution_count": 8,
     "metadata": {},
     "output_type": "execute_result"
    }
   ],
   "source": [
    "proj.groupby(['ETHNICITY','GENDER']).mean()['Diagnostic Exam ']\n",
    "pmax = proj.groupby(['ETHNICITY', 'GENDER']).max()['Diagnostic Exam ']\n",
    "pmin = proj.groupby(['ETHNICITY', 'GENDER']).min()['Diagnostic Exam ']\n",
    "pdata = pd.DataFrame({'max': pmax,'min':pmin})\n",
    "pdata.plot.bar()\n",
    "plt.ylim(0, 150)\n",
    "plt.title('EFFECTS STUDENT BACKGROUND ON EDUCATIONAL PROGRESS BY GENDER')\n",
    "plt.show()\n",
    "pmin"
   ]
  },
  {
   "cell_type": "code",
   "execution_count": 9,
   "metadata": {},
   "outputs": [
    {
     "data": {
      "image/png": "[encoded data removed]",
      "text/plain": [
       "<Figure size 432x288 with 1 Axes>"
      ]
     },
     "metadata": {
      "needs_background": "light"
     },
     "output_type": "display_data"
    },
    {
     "data": {
      "text/plain": [
       "FIRST_GEN\n",
       "N    0\n",
       "Y    0\n",
       "Name: Diagnostic Exam , dtype: int64"
      ]
     },
     "execution_count": 9,
     "metadata": {},
     "output_type": "execute_result"
    }
   ],
   "source": [
    "proj.groupby('FIRST_GEN').mean()['Diagnostic Exam ']\n",
    "pmax = proj.groupby('FIRST_GEN').max()['Diagnostic Exam ']\n",
    "pmin = proj.groupby('FIRST_GEN').min()['Diagnostic Exam ']\n",
    "pdata = pd.DataFrame({'max': pmax,'min':pmin})\n",
    "pdata.plot.bar()\n",
    "plt.ylim(0, 150)\n",
    "plt.title('EFFECTS OF FAMILY EDUCATIONAL BACKGROUND ON STUDENT EDUCATIONAL PROGRESS')\n",
    "plt.show()\n",
    "pmin"
   ]
  },
  {
   "cell_type": "code",
   "execution_count": null,
   "metadata": {},
   "outputs": [],
   "source": []
  }
 ],
 "metadata": {
  "kernelspec": {
   "display_name": "Python 3",
   "language": "python",
   "name": "python3"
  },
  "language_info": {
   "codemirror_mode": {
    "name": "ipython",
    "version": 3
   },
   "file_extension": ".py",
   "mimetype": "text/x-python",
   "name": "python",
   "nbconvert_exporter": "python",
   "pygments_lexer": "ipython3",
   "version": "3.7.3"
  }
 },
 "nbformat": 4,
 "nbformat_minor": 2
}
