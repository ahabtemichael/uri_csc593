{
 "cells": [
  {
   "cell_type": "markdown",
   "metadata": {},
   "source": [
    "# Assignment 5\n",
    "\n",
    "*(Due Saturday, October 19, 2019 at noon.)*"
   ]
  },
  {
   "cell_type": "markdown",
   "metadata": {},
   "source": [
    "1) Describe steps needed to clean your dataset. Are there badly-formatted or missing values that will need to be handled? Are you working with multiple files that need to be merged? Do you need to create any new derived fields? Describe the steps you expect to take to clean your data and prepare it for analysis."
   ]
  },
  {
   "cell_type": "markdown",
   "metadata": {},
   "source": [
    "I have multiple files that need to be mereged. I might need to create new derived fields. The data that I want to work with have both the aggregate and separated by attribute parts. First I want to develop a step where I can connect the separatly registered data into the general aggregatte in order to look for a trend or a pattern that I can work with."
   ]
  },
  {
   "cell_type": "markdown",
   "metadata": {},
   "source": [
    "2) Make a list of the fields in your data, including their names and types. If your input file is in a fixed-width format, also \n",
    "give the columns where each field appears in the data. There should be a \"codebook\" provided with your data that provides these details."
   ]
  },
  {
   "attachments": {},
   "cell_type": "markdown",
   "metadata": {},
   "source": [
    "\t\t\t\t\t\t\t\t\t\t\t\t\t\t\t\t\t\t\t\n",
    "\t\t\t ---Retention ---\t\t\t --- within four years ---\t\t --- in fith year\t\t --- in sixth year ---\t\t --- in seventh year ---\t\t --- in eighth year ---\t\t --- in ninth year ---\t\t --- in tenth year ---\t\n",
    "Fall= int (year)\t\n",
    "Head count+ int\n",
    "SAT average= int\n",
    "---Retention ---\n",
    "After one year= int\t\n",
    "After two years= int\t\n",
    "After three years= int\n",
    " --- Graduation and Continuation ---\n",
    " --- within four years\n",
    "Graduated= int\n",
    "Continued= int\t\n",
    " --- in fith year---\n",
    " Graduated= int\n",
    "Continued= int\n",
    "--- in sixth year ---\n",
    "Graduated= int\n",
    "Continued= int\n",
    "\n",
    "-- in seventh year ---\n",
    "Graduated= int\n",
    "Continued= int\n",
    "\n",
    " --- in eighth year ---\n",
    " Graduated= int\n",
    "Continued= int\n",
    " \n",
    " ---in ninth year ---\n",
    " Graduated= int\n",
    "Continued= int\n",
    " \n",
    " --- in tenth year ---\n",
    " Graduated= int\n",
    "Continued= int\n"
   ]
  },
  {
   "cell_type": "markdown",
   "metadata": {},
   "source": [
    "3) List at least 3 questions you hope to be able to answer by analyzing your data."
   ]
  },
  {
   "cell_type": "markdown",
   "metadata": {},
   "source": [
    "1) I want to produce a graphic flow representation of the trend of Students progress from freshman to senior year whenever applicable.\n",
    "2) Through the manipulation of this data, I would like to investigate if there is a pattern in the students progress based on their background. \n",
    "3) Is there a similar pattern in the progressive years that is related to students of a certain group. Is it a year special event or it is a consistency?  "
   ]
  },
  {
   "cell_type": "markdown",
   "metadata": {},
   "source": [
    "**Finally,** run the next two blocks."
   ]
  },
  {
   "cell_type": "code",
   "execution_count": 1,
   "metadata": {},
   "outputs": [
    {
     "data": {
      "text/plain": [
       "'1.2.0'"
      ]
     },
     "execution_count": 1,
     "metadata": {},
     "output_type": "execute_result"
    }
   ],
   "source": [
    "import xlrd\n",
    "xlrd.__version__"
   ]
  },
  {
   "cell_type": "code",
   "execution_count": null,
   "metadata": {},
   "outputs": [],
   "source": [
    "import openpyxl\n",
    "openpyxl.__version__"
   ]
  },
  {
   "cell_type": "code",
   "execution_count": null,
   "metadata": {},
   "outputs": [],
   "source": []
  },
  {
   "cell_type": "markdown",
   "metadata": {},
   "source": [
    "#### Submitting\n",
    "\n",
    "In the Terminal (Mac) or Git Bash (Windows):\n",
    "\n",
    "`git commit -a -m 'Assignment 3 completed'`  \n",
    "`git push`"
   ]
  },
  {
   "cell_type": "markdown",
   "metadata": {},
   "source": [
    "### Reading\n",
    "\n",
    "1. [RegexOne](https://regexone.com/): Lessons 1 through 10, and the [Python Reference](https://regexone.com/references/python)\n",
    "2. [10 Minutes to Pandas](https://pandas.pydata.org/pandas-docs/stable/getting_started/10min.html)\n",
    "3. [_Python for Data Analysis_](https://uri-primo.hosted.exlibrisgroup.com/permalink/f/10nopmq/01URI_ALMA51209454630002396):\n",
    "    * Section 1.3, \"Essential Python Libraries\"\n",
    "    * Chapter 5, \"Getting Started with `pandas`\"\n",
    "    * Sections 6.1, \"Reading and Writing Data in Text Format\" and 6.2, \"Binary Data Formats\""
   ]
  }
 ],
 "metadata": {
  "kernelspec": {
   "display_name": "Python 3",
   "language": "python",
   "name": "python3"
  },
  "language_info": {
   "codemirror_mode": {
    "name": "ipython",
    "version": 3
   },
   "file_extension": ".py",
   "mimetype": "text/x-python",
   "name": "python",
   "nbconvert_exporter": "python",
   "pygments_lexer": "ipython3",
   "version": "3.7.3"
  }
 },
 "nbformat": 4,
 "nbformat_minor": 2
}
