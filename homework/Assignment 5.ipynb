{
 "cells": [
  {
   "cell_type": "markdown",
   "metadata": {},
   "source": [
    "# Assignment 5\n",
    "\n",
    "*(Due Saturday, October 19, 2019 at noon.)*"
   ]
  },
  {
   "cell_type": "markdown",
   "metadata": {},
   "source": [
    "1) Describe steps needed to clean your dataset. Are there badly-formatted or missing values that will need to be handled? Are you working with multiple files that need to be merged? Do you need to create any new derived fields? Describe the steps you expect to take to clean your data and prepare it for analysis."
   ]
  },
  {
   "cell_type": "markdown",
   "metadata": {},
   "source": [
    "I have some rows with no value. I might need to create new derived fields inorder to help me manipulate the data in a way that makes sense to my evaluation or research questions. "
   ]
  },
  {
   "cell_type": "markdown",
   "metadata": {},
   "source": [
    "2) Make a list of the fields in your data, including their names and types. If your input file is in a fixed-width format, also \n",
    "give the columns where each field appears in the data. There should be a \"codebook\" provided with your data that provides these details."
   ]
  },
  {
   "cell_type": "code",
   "execution_count": null,
   "metadata": {},
   "outputs": [],
   "source": [
    "Code= int\n",
    "GENDER= str\n",
    "ETHNICITY= str\n",
    "FIRST_GEN= str\n",
    "HOME_CITY= str\n",
    "HOME_STATE= str\n",
    "PELL_IND= str\n",
    "TD_IND= str\n",
    "FERPA_FLG= str\n",
    "PRIMARY_PROGRAM= str\n",
    "PRIM_PROG_DESCR= str\n",
    "ACAD_PLAN1= str\n",
    "ACAD_PLAN1_DESCR= str\n",
    "ACAD_LEVEL= str\n",
    "UNITS_TAKING= int\n",
    "TOT_CUM_CREDITS= int\n",
    "CUM_GPA\tSAT_SCORE= int\n",
    "ACT_SCORE= int\n",
    "HS_CONV_GPA= int\n",
    "STEM_CRSE_COUNT_TERM= int\n",
    "STEM_CRSE_COUNT_TOTAL= int\n",
    "Exam One= int\n",
    "Diagnostic Exam= int\n",
    "First Module= int\n",
    "Subject Enhancement Project= int\n",
    "\n"
   ]
  },
  {
   "cell_type": "markdown",
   "metadata": {},
   "source": [
    "3) List at least 3 questions you hope to be able to answer by analyzing your data."
   ]
  },
  {
   "cell_type": "markdown",
   "metadata": {},
   "source": [
    "1) I want to predict the students out come by the end of the semester based on their first exam, diagnostic exam, and first module test results.\n",
    "2) Through the manipulation of this data, I would like to investigate if there is a pattern in the students progress based on their background/ethnicity and being a first generation has effect on their perfomance. \n",
    "3) I would like to investigate if the total amount of credit load they have and the acadamic plan has an influence on their progress in the class."
   ]
  },
  {
   "cell_type": "markdown",
   "metadata": {},
   "source": [
    "**Finally,** run the next two blocks."
   ]
  },
  {
   "cell_type": "code",
   "execution_count": 1,
   "metadata": {},
   "outputs": [
    {
     "data": {
      "text/plain": [
       "'1.2.0'"
      ]
     },
     "execution_count": 1,
     "metadata": {},
     "output_type": "execute_result"
    }
   ],
   "source": [
    "import xlrd\n",
    "xlrd.__version__"
   ]
  },
  {
   "cell_type": "code",
   "execution_count": 2,
   "metadata": {},
   "outputs": [
    {
     "data": {
      "text/plain": [
       "'2.6.2'"
      ]
     },
     "execution_count": 2,
     "metadata": {},
     "output_type": "execute_result"
    }
   ],
   "source": [
    "import openpyxl\n",
    "openpyxl.__version__"
   ]
  },
  {
   "cell_type": "code",
   "execution_count": null,
   "metadata": {},
   "outputs": [],
   "source": []
  },
  {
   "cell_type": "markdown",
   "metadata": {},
   "source": [
    "#### Submitting\n",
    "\n",
    "In the Terminal (Mac) or Git Bash (Windows):\n",
    "\n",
    "`git commit -a -m 'Assignment 3 completed'`  \n",
    "`git push`"
   ]
  },
  {
   "cell_type": "markdown",
   "metadata": {},
   "source": [
    "### Reading\n",
    "\n",
    "1. [RegexOne](https://regexone.com/): Lessons 1 through 10, and the [Python Reference](https://regexone.com/references/python)\n",
    "2. [10 Minutes to Pandas](https://pandas.pydata.org/pandas-docs/stable/getting_started/10min.html)\n",
    "3. [_Python for Data Analysis_](https://uri-primo.hosted.exlibrisgroup.com/permalink/f/10nopmq/01URI_ALMA51209454630002396):\n",
    "    * Section 1.3, \"Essential Python Libraries\"\n",
    "    * Chapter 5, \"Getting Started with `pandas`\"\n",
    "    * Sections 6.1, \"Reading and Writing Data in Text Format\" and 6.2, \"Binary Data Formats\""
   ]
  }
 ],
 "metadata": {
  "kernelspec": {
   "display_name": "Python 3",
   "language": "python",
   "name": "python3"
  },
  "language_info": {
   "codemirror_mode": {
    "name": "ipython",
    "version": 3
   },
   "file_extension": ".py",
   "mimetype": "text/x-python",
   "name": "python",
   "nbconvert_exporter": "python",
   "pygments_lexer": "ipython3",
   "version": "3.7.3"
  }
 },
 "nbformat": 4,
 "nbformat_minor": 2
}
