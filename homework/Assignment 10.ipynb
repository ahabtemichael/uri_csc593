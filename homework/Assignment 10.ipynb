{
 "cells": [
  {
   "cell_type": "markdown",
   "metadata": {},
   "source": [
    "# Assignment 10\n",
    "\n",
    "*(Due Saturday, November 30, 2019 at noon.)*"
   ]
  },
  {
   "cell_type": "code",
   "execution_count": 1,
   "metadata": {},
   "outputs": [],
   "source": [
    "#### LOAD PACKAGES \n",
    "import pandas as pd\n",
    "import numpy as np\n",
    "import statsmodels.api as sm\n",
    "import seaborn as sns\n",
    "import scipy.stats as stats\n",
    "import matplotlib.pyplot as plt\n",
    "\n",
    "#Graphics settings\n",
    "%matplotlib inline\n",
    "sns.set()"
   ]
  },
  {
   "cell_type": "code",
   "execution_count": 96,
   "metadata": {},
   "outputs": [
    {
     "data": {
      "text/html": [
       "<div>\n",
       "<style scoped>\n",
       "    .dataframe tbody tr th:only-of-type {\n",
       "        vertical-align: middle;\n",
       "    }\n",
       "\n",
       "    .dataframe tbody tr th {\n",
       "        vertical-align: top;\n",
       "    }\n",
       "\n",
       "    .dataframe thead th {\n",
       "        text-align: right;\n",
       "    }\n",
       "</style>\n",
       "<table border=\"1\" class=\"dataframe\">\n",
       "  <thead>\n",
       "    <tr style=\"text-align: right;\">\n",
       "      <th></th>\n",
       "      <th>total_bill</th>\n",
       "      <th>tip</th>\n",
       "      <th>sex</th>\n",
       "      <th>smoker</th>\n",
       "      <th>day</th>\n",
       "      <th>time</th>\n",
       "      <th>size</th>\n",
       "    </tr>\n",
       "  </thead>\n",
       "  <tbody>\n",
       "    <tr>\n",
       "      <th>0</th>\n",
       "      <td>16.99</td>\n",
       "      <td>1.01</td>\n",
       "      <td>Female</td>\n",
       "      <td>No</td>\n",
       "      <td>Sun</td>\n",
       "      <td>Dinner</td>\n",
       "      <td>2</td>\n",
       "    </tr>\n",
       "    <tr>\n",
       "      <th>1</th>\n",
       "      <td>10.34</td>\n",
       "      <td>1.66</td>\n",
       "      <td>Male</td>\n",
       "      <td>No</td>\n",
       "      <td>Sun</td>\n",
       "      <td>Dinner</td>\n",
       "      <td>3</td>\n",
       "    </tr>\n",
       "    <tr>\n",
       "      <th>2</th>\n",
       "      <td>21.01</td>\n",
       "      <td>3.50</td>\n",
       "      <td>Male</td>\n",
       "      <td>No</td>\n",
       "      <td>Sun</td>\n",
       "      <td>Dinner</td>\n",
       "      <td>3</td>\n",
       "    </tr>\n",
       "    <tr>\n",
       "      <th>3</th>\n",
       "      <td>23.68</td>\n",
       "      <td>3.31</td>\n",
       "      <td>Male</td>\n",
       "      <td>No</td>\n",
       "      <td>Sun</td>\n",
       "      <td>Dinner</td>\n",
       "      <td>2</td>\n",
       "    </tr>\n",
       "    <tr>\n",
       "      <th>4</th>\n",
       "      <td>24.59</td>\n",
       "      <td>3.61</td>\n",
       "      <td>Female</td>\n",
       "      <td>No</td>\n",
       "      <td>Sun</td>\n",
       "      <td>Dinner</td>\n",
       "      <td>4</td>\n",
       "    </tr>\n",
       "  </tbody>\n",
       "</table>\n",
       "</div>"
      ],
      "text/plain": [
       "   total_bill   tip     sex smoker  day    time  size\n",
       "0       16.99  1.01  Female     No  Sun  Dinner     2\n",
       "1       10.34  1.66    Male     No  Sun  Dinner     3\n",
       "2       21.01  3.50    Male     No  Sun  Dinner     3\n",
       "3       23.68  3.31    Male     No  Sun  Dinner     2\n",
       "4       24.59  3.61  Female     No  Sun  Dinner     4"
      ]
     },
     "execution_count": 96,
     "metadata": {},
     "output_type": "execute_result"
    }
   ],
   "source": [
    "tips = sns.load_dataset('tips')\n",
    "tips.head()"
   ]
  },
  {
   "cell_type": "markdown",
   "metadata": {},
   "source": [
    "1) Create a linear regression model to predict `tips.tip` from the other variables in the `tips` dataset. Print the model's `summary()`.\n",
    "\n",
    "\n",
    "\n",
    "**Hints:**\n",
    "1. You'll need to create dummy variables for `Day`, if you use it. `sex`, `time` and `smoker` can just be converted to integer (0 or 1) fields.\n",
    "2. Try creating a scatterplot matrix (see Seaborn's [`.pairplot()`](https://seaborn.pydata.org/generated/seaborn.pairplot.html) function) to help decide which variables are likely to be useful."
   ]
  },
  {
   "cell_type": "code",
   "execution_count": 110,
   "metadata": {},
   "outputs": [
    {
     "data": {
      "text/html": [
       "<table class=\"simpletable\">\n",
       "<caption>OLS Regression Results</caption>\n",
       "<tr>\n",
       "  <th>Dep. Variable:</th>           <td>tip</td>       <th>  R-squared:         </th> <td>   0.469</td>\n",
       "</tr>\n",
       "<tr>\n",
       "  <th>Model:</th>                   <td>OLS</td>       <th>  Adj. R-squared:    </th> <td>   0.456</td>\n",
       "</tr>\n",
       "<tr>\n",
       "  <th>Method:</th>             <td>Least Squares</td>  <th>  F-statistic:       </th> <td>   34.93</td>\n",
       "</tr>\n",
       "<tr>\n",
       "  <th>Date:</th>             <td>Wed, 27 Nov 2019</td> <th>  Prob (F-statistic):</th> <td>4.04e-30</td>\n",
       "</tr>\n",
       "<tr>\n",
       "  <th>Time:</th>                 <td>10:11:10</td>     <th>  Log-Likelihood:    </th> <td> -347.66</td>\n",
       "</tr>\n",
       "<tr>\n",
       "  <th>No. Observations:</th>      <td>   244</td>      <th>  AIC:               </th> <td>   709.3</td>\n",
       "</tr>\n",
       "<tr>\n",
       "  <th>Df Residuals:</th>          <td>   237</td>      <th>  BIC:               </th> <td>   733.8</td>\n",
       "</tr>\n",
       "<tr>\n",
       "  <th>Df Model:</th>              <td>     6</td>      <th>                     </th>     <td> </td>   \n",
       "</tr>\n",
       "<tr>\n",
       "  <th>Covariance Type:</th>      <td>nonrobust</td>    <th>                     </th>     <td> </td>   \n",
       "</tr>\n",
       "</table>\n",
       "<table class=\"simpletable\">\n",
       "<tr>\n",
       "          <td></td>            <th>coef</th>     <th>std err</th>      <th>t</th>      <th>P>|t|</th>  <th>[0.025</th>    <th>0.975]</th>  \n",
       "</tr>\n",
       "<tr>\n",
       "  <th>Intercept</th>        <td>    0.6487</td> <td>    0.235</td> <td>    2.756</td> <td> 0.006</td> <td>    0.185</td> <td>    1.112</td>\n",
       "</tr>\n",
       "<tr>\n",
       "  <th>C(sex)[T.Female]</th> <td>    0.0326</td> <td>    0.141</td> <td>    0.231</td> <td> 0.818</td> <td>   -0.245</td> <td>    0.311</td>\n",
       "</tr>\n",
       "<tr>\n",
       "  <th>C(day)[T.Fri]</th>    <td>    0.0789</td> <td>    0.269</td> <td>    0.293</td> <td> 0.770</td> <td>   -0.451</td> <td>    0.609</td>\n",
       "</tr>\n",
       "<tr>\n",
       "  <th>C(day)[T.Sat]</th>    <td>   -0.0414</td> <td>    0.173</td> <td>   -0.239</td> <td> 0.811</td> <td>   -0.382</td> <td>    0.299</td>\n",
       "</tr>\n",
       "<tr>\n",
       "  <th>C(day)[T.Sun]</th>    <td>    0.0725</td> <td>    0.181</td> <td>    0.400</td> <td> 0.690</td> <td>   -0.284</td> <td>    0.429</td>\n",
       "</tr>\n",
       "<tr>\n",
       "  <th>total_bill</th>       <td>    0.0932</td> <td>    0.009</td> <td>   10.019</td> <td> 0.000</td> <td>    0.075</td> <td>    0.112</td>\n",
       "</tr>\n",
       "<tr>\n",
       "  <th>size</th>             <td>    0.1867</td> <td>    0.087</td> <td>    2.137</td> <td> 0.034</td> <td>    0.015</td> <td>    0.359</td>\n",
       "</tr>\n",
       "</table>\n",
       "<table class=\"simpletable\">\n",
       "<tr>\n",
       "  <th>Omnibus:</th>       <td>26.163</td> <th>  Durbin-Watson:     </th> <td>   2.094</td>\n",
       "</tr>\n",
       "<tr>\n",
       "  <th>Prob(Omnibus):</th> <td> 0.000</td> <th>  Jarque-Bera (JB):  </th> <td>  49.406</td>\n",
       "</tr>\n",
       "<tr>\n",
       "  <th>Skew:</th>          <td> 0.571</td> <th>  Prob(JB):          </th> <td>1.87e-11</td>\n",
       "</tr>\n",
       "<tr>\n",
       "  <th>Kurtosis:</th>      <td> 4.886</td> <th>  Cond. No.          </th> <td>    110.</td>\n",
       "</tr>\n",
       "</table><br/><br/>Warnings:<br/>[1] Standard Errors assume that the covariance matrix of the errors is correctly specified."
      ],
      "text/plain": [
       "<class 'statsmodels.iolib.summary.Summary'>\n",
       "\"\"\"\n",
       "                            OLS Regression Results                            \n",
       "==============================================================================\n",
       "Dep. Variable:                    tip   R-squared:                       0.469\n",
       "Model:                            OLS   Adj. R-squared:                  0.456\n",
       "Method:                 Least Squares   F-statistic:                     34.93\n",
       "Date:                Wed, 27 Nov 2019   Prob (F-statistic):           4.04e-30\n",
       "Time:                        10:11:10   Log-Likelihood:                -347.66\n",
       "No. Observations:                 244   AIC:                             709.3\n",
       "Df Residuals:                     237   BIC:                             733.8\n",
       "Df Model:                           6                                         \n",
       "Covariance Type:            nonrobust                                         \n",
       "====================================================================================\n",
       "                       coef    std err          t      P>|t|      [0.025      0.975]\n",
       "------------------------------------------------------------------------------------\n",
       "Intercept            0.6487      0.235      2.756      0.006       0.185       1.112\n",
       "C(sex)[T.Female]     0.0326      0.141      0.231      0.818      -0.245       0.311\n",
       "C(day)[T.Fri]        0.0789      0.269      0.293      0.770      -0.451       0.609\n",
       "C(day)[T.Sat]       -0.0414      0.173     -0.239      0.811      -0.382       0.299\n",
       "C(day)[T.Sun]        0.0725      0.181      0.400      0.690      -0.284       0.429\n",
       "total_bill           0.0932      0.009     10.019      0.000       0.075       0.112\n",
       "size                 0.1867      0.087      2.137      0.034       0.015       0.359\n",
       "==============================================================================\n",
       "Omnibus:                       26.163   Durbin-Watson:                   2.094\n",
       "Prob(Omnibus):                  0.000   Jarque-Bera (JB):               49.406\n",
       "Skew:                           0.571   Prob(JB):                     1.87e-11\n",
       "Kurtosis:                       4.886   Cond. No.                         110.\n",
       "==============================================================================\n",
       "\n",
       "Warnings:\n",
       "[1] Standard Errors assume that the covariance matrix of the errors is correctly specified.\n",
       "\"\"\""
      ]
     },
     "execution_count": 110,
     "metadata": {},
     "output_type": "execute_result"
    }
   ],
   "source": [
    "from statsmodels.formula.api import ols\n",
    "lm = ols('tip ~ total_bill + C(sex) + C(day) + size', data=tips)\n",
    "lm1= lm.fit()\n",
    "lm1.summary()\n"
   ]
  },
  {
   "cell_type": "markdown",
   "metadata": {},
   "source": [
    "2) Provide a linear function like this one from the class notes:  \n",
    "    \n",
    "**Box(Rate, User) = -229.0106 + 54.9285Rate + .4472User**"
   ]
  },
  {
   "cell_type": "markdown",
   "metadata": {},
   "source": [
    "tip(sex,day,total_bill,size)= 0.6487 + 0.0326sex + 0.03667day+0.0932total_bill+ 0.1867size)"
   ]
  },
  {
   "cell_type": "markdown",
   "metadata": {},
   "source": [
    "3) Provide scatterplots of residuals against each predictor variable and the predicted values."
   ]
  },
  {
   "cell_type": "code",
   "execution_count": 109,
   "metadata": {},
   "outputs": [
    {
     "data": {
      "image/png": "[encoded data removed]",
      "text/plain": [
       "<Figure size 432x144 with 1 Axes>"
      ]
     },
     "metadata": {
      "needs_background": "light"
     },
     "output_type": "display_data"
    },
    {
     "data": {
      "image/png": "[encoded data removed]",
      "text/plain": [
       "<Figure size 432x144 with 1 Axes>"
      ]
     },
     "metadata": {
      "needs_background": "light"
     },
     "output_type": "display_data"
    },
    {
     "data": {
      "image/png": "[encoded data removed]",
      "text/plain": [
       "<Figure size 432x144 with 1 Axes>"
      ]
     },
     "metadata": {
      "needs_background": "light"
     },
     "output_type": "display_data"
    },
    {
     "data": {
      "image/png": "[encoded data removed]",
      "text/plain": [
       "<Figure size 432x144 with 1 Axes>"
      ]
     },
     "metadata": {
      "needs_background": "light"
     },
     "output_type": "display_data"
    },
    {
     "data": {
      "image/png": "[encoded data removed]",
      "text/plain": [
       "<Figure size 432x144 with 1 Axes>"
      ]
     },
     "metadata": {
      "needs_background": "light"
     },
     "output_type": "display_data"
    },
    {
     "name": "stdout",
     "output_type": "stream",
     "text": [
      "9.682600804927595e-16\n"
     ]
    }
   ],
   "source": [
    "for x in ('sex', 'day', 'total_bill','size'):\n",
    "    plt.figure(figsize=(6,2))\n",
    "    sns.scatterplot(tips[x], lm.resid)\n",
    "    plt.title(\"Residuals by %s\" % x)\n",
    "    plt.ylim(-100, 100)\n",
    "  \n",
    "    plt.axhline(np.mean(lm.resid))\n",
    "    plt.show()\n",
    "\n",
    "plt.figure(figsize=(6,2))\n",
    "sns.scatterplot(lm.predict(), lm.resid)\n",
    "plt.title(\"Residuals by Predicted Value\")\n",
    "plt.ylim(-100, 100)\n",
    "plt.axhline(np.mean(lm.resid))\n",
    "plt.show()\n",
    "\n",
    "print(np.mean(lm.resid))"
   ]
  },
  {
   "cell_type": "markdown",
   "metadata": {},
   "source": [
    "4) Does your model meet the four assumptions expected of a linear model? Explain:"
   ]
  },
  {
   "cell_type": "markdown",
   "metadata": {},
   "source": [
    "It satisfies the assumptions expected: shows mean close to zero across the distribution, the vertical spread of points remains approximately constant across the graph, have an approximately normal distribution, and there are no visible influence from the regressors on the relationship. "
   ]
  }
 ],
 "metadata": {
  "kernelspec": {
   "display_name": "Python 3",
   "language": "python",
   "name": "python3"
  },
  "language_info": {
   "codemirror_mode": {
    "name": "ipython",
    "version": 3
   },
   "file_extension": ".py",
   "mimetype": "text/x-python",
   "name": "python",
   "nbconvert_exporter": "python",
   "pygments_lexer": "ipython3",
   "version": "3.7.3"
  }
 },
 "nbformat": 4,
 "nbformat_minor": 2
}
