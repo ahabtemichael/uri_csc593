{
 "cells": [
  {
   "cell_type": "markdown",
   "metadata": {},
   "source": [
    "CSC 593: Final Project\n",
    "\n",
    "Title: Descriptive analysis of the effects of Cultural cognition and racial background on the performance of a student "
   ]
  },
  {
   "cell_type": "markdown",
   "metadata": {},
   "source": [
    "Background\n",
    "\n",
    "The dataset that is being used for this project depicts a sample taken from a student population of a university. It represents a section of freshman students, and the data was collected for a project that envisioned to assist in identifying the need for an early intervention for students after their first exam. The office of enrolment course registration data was used to collect the information.However, refining manupilation had been done by the analyist of this project before using it for this project. The prior manuplation of the data is not included in this project report. \n",
    "The data set have differet information and fields with major catagories including demographic, acadamic plan, course workload, and academic history based on SAT scores. However, for this project the targeted fields are \"race\" (as a proxy for background, economic status, and cultural cognition),\"Diagnostic Exam\", \"Exam One\", \"Module 1\", \"Academic Plan\", and \"total course load\".\n",
    "Here in this report the main focus of the study is to investigate the effects of cultural cognition and racial background on a students performace. We try to evaluate different relationships and try identify if there is a reasonable pattern that can describe the relationships between these social factors and academci achievement. To that end, this project uses exam results from one of the core courses in STEM field. \n",
    "Diagnostic Exam: a test given to students on the first day of class to check and caliber their preparation and prior background for the course material.\n",
    "Module 1: a test administered after the first unit of the course material.\n",
    "Exam One: a test adminstered after three units of the course material.\n",
    "\n",
    "Hypothesis: Null: The background and culural cognition of a student affect student's preparedness for college and success in college.\n",
    "Alternative: A student's prepardness for college and success in college are not related to background and cultural cognition."
   ]
  },
  {
   "cell_type": "markdown",
   "metadata": {},
   "source": [
    "Data Processing"
   ]
  },
  {
   "cell_type": "markdown",
   "metadata": {},
   "source": [
    "The dataset was uploaded to the dataset repisitory and got loaded into the jupiter note book using the pd.read_excel() code (see below). As mentioned above the author had done a pre-clean up of the data in the excel before importing for this project. During that clean up the data was made unanimous and uncessary columns were dropped. No further data clean using python was necessary to do the work needed for this project except changing long field titles for columns (eg. \"Exam One\" to \"Exam1\" and dropping NA values in \"Exam1\", \"DigEx\", and \"Mod1\" fields as renamed later (see below). "
   ]
  },
  {
   "cell_type": "code",
   "execution_count": 1,
   "metadata": {},
   "outputs": [],
   "source": [
    "#### LOAD ALL THE NECESSARY PACKAGES \n",
    "import pandas as pd\n",
    "import numpy as np\n",
    "import statsmodels.api as sm\n",
    "import seaborn as sns\n",
    "import scipy.stats as stats\n",
    "import matplotlib.pyplot as plt\n",
    "from statsmodels.formula.api import ols\n",
    "%matplotlib inline"
   ]
  },
  {
   "cell_type": "code",
   "execution_count": 2,
   "metadata": {},
   "outputs": [],
   "source": [
    "#Loading the dataset\n",
    "Project=pd.read_excel('../dataset/CSC_project.xlsx')\n"
   ]
  },
  {
   "cell_type": "code",
   "execution_count": 3,
   "metadata": {},
   "outputs": [
    {
     "name": "stdout",
     "output_type": "stream",
     "text": [
      "Index(['Code', 'GENDER', 'ETHNICITY', 'FIRST_GEN', 'HOME_CITY', 'HOME_STATE',\n",
      "       'PELL_IND', 'TD_IND', 'FERPA_FLG', 'PRIMARY_PROGRAM', 'PRIM_PROG_DESCR',\n",
      "       'ACAD_PLAN1', 'ACAD_PLAN1_DESCR', 'ACAD_LEVEL', 'UNITS_TAKING',\n",
      "       'TOT_CUM_CREDITS', 'CUM_GPA', 'SAT_SCORE', 'ACT_SCORE', 'HS_CONV_GPA',\n",
      "       'STEM_CRSE_COUNT_TERM', 'STEM_CRSE_COUNT_TOTAL', 'Exam One',\n",
      "       'Diagnostic Exam ', 'First Module ', 'Subject Enhancement Project'],\n",
      "      dtype='object')\n",
      "Index(['Code', 'GENDER', 'ETHNICITY', 'FIRST_GEN', 'HOME_CITY', 'HOME_STATE',\n",
      "       'PELL_IND', 'TD_IND', 'FERPA_FLG', 'PRIMARY_PROGRAM', 'PRIM_PROG_DESCR',\n",
      "       'ACAD_PLAN1', 'ACAD_PLAN1_DESCR', 'ACAD_LEVEL', 'UNITS_TAKING',\n",
      "       'TOT_CUM_CREDITS', 'CUM_GPA', 'SAT_SCORE', 'ACT_SCORE', 'HS_CONV_GPA',\n",
      "       'STEM_CRSE_COUNT_TERM', 'STEM_CRSE_COUNT_TOTAL', 'Exam1', 'DigEx',\n",
      "       'Mod1', 'Subject Enhancement Project'],\n",
      "      dtype='object')\n"
     ]
    }
   ],
   "source": [
    "#Data cleaning and renaming of long column heads to make it suitable for calling in future analysis codes \n",
    "pd.DataFrame(Project)\n",
    "print (Project.columns)\n",
    "Project.rename(columns= {'Exam One':'Exam1','Diagnostic Exam ':'DigEx','First Module ':'Mod1'},inplace=True)\n",
    "print (Project.columns)"
   ]
  },
  {
   "cell_type": "code",
   "execution_count": 4,
   "metadata": {},
   "outputs": [],
   "source": [
    "#Droping NA values for the fields Exam1,DigEx,and Mod1 where there are some records missing\n",
    "Project.dropna(subset=['Exam1', 'DigEx', 'Mod1'], inplace=True)"
   ]
  },
  {
   "cell_type": "markdown",
   "metadata": {},
   "source": [
    "Analysis"
   ]
  },
  {
   "cell_type": "markdown",
   "metadata": {},
   "source": [
    "Question 1: The first research question this study is trying to address is the existance of a meaningfull relationship between a student's background and the student's preparation for college level study.\n",
    "\n",
    "To that end we will try to see if there is a significant pattern connecting ethnicity and diagnostic exam fields in the sample using descriptive statistics where background is represented by ethnicity as a proxy and prepardness test by the resutlts of the diagnostic exam. The dataset was grouped by ethnicity and the maximum and minimum values of the Diagnostic exam were ploted on the graph for each ethnicity group.\n",
    "\n",
    "Based on the results shown below there is a relationship between a students background and preparedness for college education. In the results it is clear that the minimum value for diagnostic exam shows higher numbers for students identified as Asians and African Americans/Black,while there is no value counted for students who identified as white and 2 or more races.  "
   ]
  },
  {
   "cell_type": "code",
   "execution_count": 5,
   "metadata": {},
   "outputs": [
    {
     "data": {
      "image/png": "[encoded data removed]",
      "text/plain": [
       "<Figure size 432x288 with 1 Axes>"
      ]
     },
     "metadata": {
      "needs_background": "light"
     },
     "output_type": "display_data"
    },
    {
     "data": {
      "text/plain": [
       "ETHNICITY\n",
       "2+ Races                  50\n",
       "Asian                     55\n",
       "Black/African American    15\n",
       "Hispanic/Latino            0\n",
       "Not Specified             60\n",
       "White                      0\n",
       "Name: DigEx, dtype: int64"
      ]
     },
     "execution_count": 5,
     "metadata": {},
     "output_type": "execute_result"
    }
   ],
   "source": [
    "#sorting the dataset by ethnicity, connect it with the maximun and minimum values of diagnostic exam results for each group.\n",
    "#plot the bargraph of the evaluated data.\n",
    "Project.groupby('ETHNICITY').mean()['DigEx']\n",
    "pmax = Project.groupby('ETHNICITY').max()['DigEx']\n",
    "pmin = Project.groupby('ETHNICITY').min()['DigEx']\n",
    "pdata = pd.DataFrame({'max': pmax,'min':pmin})\n",
    "pdata.plot.bar()\n",
    "plt.ylim(0, 150)\n",
    "plt.title('EFFECTS OF BACKGROUND ON STUDENT EDUCATIONAL PROGRESS')\n",
    "plt.show()\n",
    "pmin\n"
   ]
  },
  {
   "cell_type": "markdown",
   "metadata": {},
   "source": [
    "Furthermore, the study attempted to investigate the robustness of the above indicated relationship between background and preparedness for college by expanding the background proxies toward first generation and gender fields in order to cover all the subtle parts of the cultural cognition elements that play part on a student's background beyond ethniciity.\n",
    "A linear regression approach was used to test this effect of cultural cognition on student's preparation for college level study. Using gender and first generation fields as predictor variables to explain the diagnostic exam results the linear regression model was run as follows."
   ]
  },
  {
   "cell_type": "code",
   "execution_count": 6,
   "metadata": {},
   "outputs": [
    {
     "data": {
      "text/html": [
       "<table class=\"simpletable\">\n",
       "<caption>OLS Regression Results</caption>\n",
       "<tr>\n",
       "  <th>Dep. Variable:</th>          <td>DigEx</td>      <th>  R-squared:         </th> <td>   0.001</td>\n",
       "</tr>\n",
       "<tr>\n",
       "  <th>Model:</th>                   <td>OLS</td>       <th>  Adj. R-squared:    </th> <td>  -0.018</td>\n",
       "</tr>\n",
       "<tr>\n",
       "  <th>Method:</th>             <td>Least Squares</td>  <th>  F-statistic:       </th> <td> 0.03786</td>\n",
       "</tr>\n",
       "<tr>\n",
       "  <th>Date:</th>             <td>Tue, 17 Dec 2019</td> <th>  Prob (F-statistic):</th>  <td> 0.963</td> \n",
       "</tr>\n",
       "<tr>\n",
       "  <th>Time:</th>                 <td>21:14:54</td>     <th>  Log-Likelihood:    </th> <td> -499.32</td>\n",
       "</tr>\n",
       "<tr>\n",
       "  <th>No. Observations:</th>      <td>   112</td>      <th>  AIC:               </th> <td>   1005.</td>\n",
       "</tr>\n",
       "<tr>\n",
       "  <th>Df Residuals:</th>          <td>   109</td>      <th>  BIC:               </th> <td>   1013.</td>\n",
       "</tr>\n",
       "<tr>\n",
       "  <th>Df Model:</th>              <td>     2</td>      <th>                     </th>     <td> </td>   \n",
       "</tr>\n",
       "<tr>\n",
       "  <th>Covariance Type:</th>      <td>nonrobust</td>    <th>                     </th>     <td> </td>   \n",
       "</tr>\n",
       "</table>\n",
       "<table class=\"simpletable\">\n",
       "<tr>\n",
       "          <td></td>             <th>coef</th>     <th>std err</th>      <th>t</th>      <th>P>|t|</th>  <th>[0.025</th>    <th>0.975]</th>  \n",
       "</tr>\n",
       "<tr>\n",
       "  <th>Intercept</th>         <td>   65.5803</td> <td>    3.312</td> <td>   19.798</td> <td> 0.000</td> <td>   59.015</td> <td>   72.145</td>\n",
       "</tr>\n",
       "<tr>\n",
       "  <th>C(GENDER)[T.M]</th>    <td>    0.4924</td> <td>    4.239</td> <td>    0.116</td> <td> 0.908</td> <td>   -7.908</td> <td>    8.893</td>\n",
       "</tr>\n",
       "<tr>\n",
       "  <th>C(FIRST_GEN)[T.Y]</th> <td>    1.1839</td> <td>    4.352</td> <td>    0.272</td> <td> 0.786</td> <td>   -7.441</td> <td>    9.809</td>\n",
       "</tr>\n",
       "</table>\n",
       "<table class=\"simpletable\">\n",
       "<tr>\n",
       "  <th>Omnibus:</th>       <td>24.762</td> <th>  Durbin-Watson:     </th> <td>   1.751</td>\n",
       "</tr>\n",
       "<tr>\n",
       "  <th>Prob(Omnibus):</th> <td> 0.000</td> <th>  Jarque-Bera (JB):  </th> <td>  33.601</td>\n",
       "</tr>\n",
       "<tr>\n",
       "  <th>Skew:</th>          <td>-1.137</td> <th>  Prob(JB):          </th> <td>5.05e-08</td>\n",
       "</tr>\n",
       "<tr>\n",
       "  <th>Kurtosis:</th>      <td> 4.425</td> <th>  Cond. No.          </th> <td>    3.25</td>\n",
       "</tr>\n",
       "</table><br/><br/>Warnings:<br/>[1] Standard Errors assume that the covariance matrix of the errors is correctly specified."
      ],
      "text/plain": [
       "<class 'statsmodels.iolib.summary.Summary'>\n",
       "\"\"\"\n",
       "                            OLS Regression Results                            \n",
       "==============================================================================\n",
       "Dep. Variable:                  DigEx   R-squared:                       0.001\n",
       "Model:                            OLS   Adj. R-squared:                 -0.018\n",
       "Method:                 Least Squares   F-statistic:                   0.03786\n",
       "Date:                Tue, 17 Dec 2019   Prob (F-statistic):              0.963\n",
       "Time:                        21:14:54   Log-Likelihood:                -499.32\n",
       "No. Observations:                 112   AIC:                             1005.\n",
       "Df Residuals:                     109   BIC:                             1013.\n",
       "Df Model:                           2                                         \n",
       "Covariance Type:            nonrobust                                         \n",
       "=====================================================================================\n",
       "                        coef    std err          t      P>|t|      [0.025      0.975]\n",
       "-------------------------------------------------------------------------------------\n",
       "Intercept            65.5803      3.312     19.798      0.000      59.015      72.145\n",
       "C(GENDER)[T.M]        0.4924      4.239      0.116      0.908      -7.908       8.893\n",
       "C(FIRST_GEN)[T.Y]     1.1839      4.352      0.272      0.786      -7.441       9.809\n",
       "==============================================================================\n",
       "Omnibus:                       24.762   Durbin-Watson:                   1.751\n",
       "Prob(Omnibus):                  0.000   Jarque-Bera (JB):               33.601\n",
       "Skew:                          -1.137   Prob(JB):                     5.05e-08\n",
       "Kurtosis:                       4.425   Cond. No.                         3.25\n",
       "==============================================================================\n",
       "\n",
       "Warnings:\n",
       "[1] Standard Errors assume that the covariance matrix of the errors is correctly specified.\n",
       "\"\"\""
      ]
     },
     "execution_count": 6,
     "metadata": {},
     "output_type": "execute_result"
    }
   ],
   "source": [
    "#Setting a linear regression analysis to describe the results of exam one through the effects of Diagnostic exam, gender and\n",
    "#first generation. Here a formula approach from the stats models is uesed, which uses C() to indicate a categorical variables.\n",
    "#The formula assigns a dummy value to a catagoriacl variable and uses it in the regression. \n",
    "#This code was adopted from https://stackoverflow.com/questions/50733014/linear-regression-with-dummy-categorical-variables\n",
    "#and modified to fit this project.\n",
    "lm = ols('DigEx ~ C(GENDER) + C(FIRST_GEN)', data=Project)\n",
    "lm1= lm.fit()\n",
    "lm1.summary()\n",
    "\n"
   ]
  },
  {
   "cell_type": "markdown",
   "metadata": {},
   "source": [
    "The linear function of the regression: DigEx(GENDER,FIRST_GEN)=65.5803+04924GENDER+1.1839FIRST_GEN"
   ]
  },
  {
   "cell_type": "code",
   "execution_count": 7,
   "metadata": {},
   "outputs": [
    {
     "name": "stdout",
     "output_type": "stream",
     "text": [
      "Intercept            6.833949e-38\n",
      "C(GENDER)[T.M]       9.077231e-01\n",
      "C(FIRST_GEN)[T.Y]    7.860944e-01\n",
      "dtype: float64\n"
     ]
    }
   ],
   "source": [
    "#Printing the p-values of the above regression analysis\n",
    "print(lm1.pvalues)"
   ]
  },
  {
   "cell_type": "markdown",
   "metadata": {},
   "source": [
    "The high p-values in this regressional analysis show support to the null hypothesis that there is a correlation between a students preparation for college and student's background and cultural cognition explained by gender and first generation fields in the dataset. In the context of background and cultural cognition we have also seen the effects of ethinicity as factor. Therefore, from out analysis it could be deduced that a students preparation as tested by the diagnostic exam shows that there is a strong relationship to the students background and cultural cognition. "
   ]
  },
  {
   "cell_type": "markdown",
   "metadata": {},
   "source": [
    "Question 2: Could this influence of cultural congnition and background influence the progress/success of a student in college? Can this relationship be used as predictor of a student's academic success when used with other initial test measures? \n",
    "In order to investigate this inherent connection between a student's success and background the author used the fields ethnicity, gender, and first generation to describe cultural cognition and background, while the results of Module 1 (Mod1) was used as a predictor of success to indicate as to how results of Exam One are reflected. "
   ]
  },
  {
   "cell_type": "code",
   "execution_count": 8,
   "metadata": {},
   "outputs": [
    {
     "data": {
      "text/html": [
       "<table class=\"simpletable\">\n",
       "<caption>OLS Regression Results</caption>\n",
       "<tr>\n",
       "  <th>Dep. Variable:</th>          <td>Exam1</td>      <th>  R-squared:         </th> <td>   0.154</td>\n",
       "</tr>\n",
       "<tr>\n",
       "  <th>Model:</th>                   <td>OLS</td>       <th>  Adj. R-squared:    </th> <td>   0.089</td>\n",
       "</tr>\n",
       "<tr>\n",
       "  <th>Method:</th>             <td>Least Squares</td>  <th>  F-statistic:       </th> <td>   2.350</td>\n",
       "</tr>\n",
       "<tr>\n",
       "  <th>Date:</th>             <td>Tue, 17 Dec 2019</td> <th>  Prob (F-statistic):</th>  <td>0.0231</td> \n",
       "</tr>\n",
       "<tr>\n",
       "  <th>Time:</th>                 <td>21:14:54</td>     <th>  Log-Likelihood:    </th> <td> -490.08</td>\n",
       "</tr>\n",
       "<tr>\n",
       "  <th>No. Observations:</th>      <td>   112</td>      <th>  AIC:               </th> <td>   998.2</td>\n",
       "</tr>\n",
       "<tr>\n",
       "  <th>Df Residuals:</th>          <td>   103</td>      <th>  BIC:               </th> <td>   1023.</td>\n",
       "</tr>\n",
       "<tr>\n",
       "  <th>Df Model:</th>              <td>     8</td>      <th>                     </th>     <td> </td>   \n",
       "</tr>\n",
       "<tr>\n",
       "  <th>Covariance Type:</th>      <td>nonrobust</td>    <th>                     </th>     <td> </td>   \n",
       "</tr>\n",
       "</table>\n",
       "<table class=\"simpletable\">\n",
       "<tr>\n",
       "                     <td></td>                       <th>coef</th>     <th>std err</th>      <th>t</th>      <th>P>|t|</th>  <th>[0.025</th>    <th>0.975]</th>  \n",
       "</tr>\n",
       "<tr>\n",
       "  <th>Intercept</th>                              <td>   43.2308</td> <td>    8.207</td> <td>    5.268</td> <td> 0.000</td> <td>   26.954</td> <td>   59.508</td>\n",
       "</tr>\n",
       "<tr>\n",
       "  <th>C(GENDER)[T.M]</th>                         <td>   -0.9121</td> <td>    4.039</td> <td>   -0.226</td> <td> 0.822</td> <td>   -8.923</td> <td>    7.099</td>\n",
       "</tr>\n",
       "<tr>\n",
       "  <th>C(ETHNICITY)[T.Asian]</th>                  <td>    8.8075</td> <td>   11.621</td> <td>    0.758</td> <td> 0.450</td> <td>  -14.239</td> <td>   31.854</td>\n",
       "</tr>\n",
       "<tr>\n",
       "  <th>C(ETHNICITY)[T.Black/African American]</th> <td>    6.9772</td> <td>   10.576</td> <td>    0.660</td> <td> 0.511</td> <td>  -13.997</td> <td>   27.952</td>\n",
       "</tr>\n",
       "<tr>\n",
       "  <th>C(ETHNICITY)[T.Hispanic/Latino]</th>        <td>    6.6422</td> <td>    8.642</td> <td>    0.769</td> <td> 0.444</td> <td>  -10.497</td> <td>   23.781</td>\n",
       "</tr>\n",
       "<tr>\n",
       "  <th>C(ETHNICITY)[T.Not Specified]</th>          <td>   26.1646</td> <td>   15.991</td> <td>    1.636</td> <td> 0.105</td> <td>   -5.550</td> <td>   57.879</td>\n",
       "</tr>\n",
       "<tr>\n",
       "  <th>C(ETHNICITY)[T.White]</th>                  <td>   12.1658</td> <td>    7.292</td> <td>    1.668</td> <td> 0.098</td> <td>   -2.297</td> <td>   26.628</td>\n",
       "</tr>\n",
       "<tr>\n",
       "  <th>C(FIRST_GEN)[T.Y]</th>                      <td>    2.2839</td> <td>    4.497</td> <td>    0.508</td> <td> 0.613</td> <td>   -6.635</td> <td>   11.203</td>\n",
       "</tr>\n",
       "<tr>\n",
       "  <th>Mod1</th>                                   <td>    1.6061</td> <td>    0.513</td> <td>    3.129</td> <td> 0.002</td> <td>    0.588</td> <td>    2.624</td>\n",
       "</tr>\n",
       "</table>\n",
       "<table class=\"simpletable\">\n",
       "<tr>\n",
       "  <th>Omnibus:</th>       <td>11.418</td> <th>  Durbin-Watson:     </th> <td>   1.910</td>\n",
       "</tr>\n",
       "<tr>\n",
       "  <th>Prob(Omnibus):</th> <td> 0.003</td> <th>  Jarque-Bera (JB):  </th> <td>  11.806</td>\n",
       "</tr>\n",
       "<tr>\n",
       "  <th>Skew:</th>          <td>-0.765</td> <th>  Prob(JB):          </th> <td> 0.00273</td>\n",
       "</tr>\n",
       "<tr>\n",
       "  <th>Kurtosis:</th>      <td> 3.437</td> <th>  Cond. No.          </th> <td>    92.6</td>\n",
       "</tr>\n",
       "</table><br/><br/>Warnings:<br/>[1] Standard Errors assume that the covariance matrix of the errors is correctly specified."
      ],
      "text/plain": [
       "<class 'statsmodels.iolib.summary.Summary'>\n",
       "\"\"\"\n",
       "                            OLS Regression Results                            \n",
       "==============================================================================\n",
       "Dep. Variable:                  Exam1   R-squared:                       0.154\n",
       "Model:                            OLS   Adj. R-squared:                  0.089\n",
       "Method:                 Least Squares   F-statistic:                     2.350\n",
       "Date:                Tue, 17 Dec 2019   Prob (F-statistic):             0.0231\n",
       "Time:                        21:14:54   Log-Likelihood:                -490.08\n",
       "No. Observations:                 112   AIC:                             998.2\n",
       "Df Residuals:                     103   BIC:                             1023.\n",
       "Df Model:                           8                                         \n",
       "Covariance Type:            nonrobust                                         \n",
       "==========================================================================================================\n",
       "                                             coef    std err          t      P>|t|      [0.025      0.975]\n",
       "----------------------------------------------------------------------------------------------------------\n",
       "Intercept                                 43.2308      8.207      5.268      0.000      26.954      59.508\n",
       "C(GENDER)[T.M]                            -0.9121      4.039     -0.226      0.822      -8.923       7.099\n",
       "C(ETHNICITY)[T.Asian]                      8.8075     11.621      0.758      0.450     -14.239      31.854\n",
       "C(ETHNICITY)[T.Black/African American]     6.9772     10.576      0.660      0.511     -13.997      27.952\n",
       "C(ETHNICITY)[T.Hispanic/Latino]            6.6422      8.642      0.769      0.444     -10.497      23.781\n",
       "C(ETHNICITY)[T.Not Specified]             26.1646     15.991      1.636      0.105      -5.550      57.879\n",
       "C(ETHNICITY)[T.White]                     12.1658      7.292      1.668      0.098      -2.297      26.628\n",
       "C(FIRST_GEN)[T.Y]                          2.2839      4.497      0.508      0.613      -6.635      11.203\n",
       "Mod1                                       1.6061      0.513      3.129      0.002       0.588       2.624\n",
       "==============================================================================\n",
       "Omnibus:                       11.418   Durbin-Watson:                   1.910\n",
       "Prob(Omnibus):                  0.003   Jarque-Bera (JB):               11.806\n",
       "Skew:                          -0.765   Prob(JB):                      0.00273\n",
       "Kurtosis:                       3.437   Cond. No.                         92.6\n",
       "==============================================================================\n",
       "\n",
       "Warnings:\n",
       "[1] Standard Errors assume that the covariance matrix of the errors is correctly specified.\n",
       "\"\"\""
      ]
     },
     "execution_count": 8,
     "metadata": {},
     "output_type": "execute_result"
    }
   ],
   "source": [
    "#Setting a linear regression analysis to describe the results of exam one through the effects of Diagnostic exam, gender and\n",
    "#first generation. Here a formula approach from the stats models is uesed, which uses C() to indicate a categorical variables.\n",
    "#This code was adopted from https://stackoverflow.com/questions/50733014/linear-regression-with-dummy-categorical-variables\n",
    "#and modified to fit this project.\n",
    "lm2 = ols('Exam1 ~ Mod1 + C(GENDER)+ C(ETHNICITY) + C(FIRST_GEN)', data=Project)\n",
    "lm3= lm2.fit()\n",
    "lm3.summary()"
   ]
  },
  {
   "cell_type": "code",
   "execution_count": 9,
   "metadata": {},
   "outputs": [
    {
     "name": "stdout",
     "output_type": "stream",
     "text": [
      "Intercept                                 7.616668e-07\n",
      "C(GENDER)[T.M]                            8.217939e-01\n",
      "C(ETHNICITY)[T.Asian]                     4.502284e-01\n",
      "C(ETHNICITY)[T.Black/African American]    5.108928e-01\n",
      "C(ETHNICITY)[T.Hispanic/Latino]           4.438783e-01\n",
      "C(ETHNICITY)[T.Not Specified]             1.048524e-01\n",
      "C(ETHNICITY)[T.White]                     9.829024e-02\n",
      "C(FIRST_GEN)[T.Y]                         6.126527e-01\n",
      "Mod1                                      2.280686e-03\n",
      "dtype: float64\n"
     ]
    }
   ],
   "source": [
    "#printing p-values of the regression model\n",
    "print(lm3.pvalues)"
   ]
  },
  {
   "cell_type": "markdown",
   "metadata": {},
   "source": [
    "The p-values greater than 0.05, which are exhibted for fields ETHNICITY, GENDER,and FIRST_GEN show that they have a strong factor in affecting the students outcome in Exam1, while the 0.002 p-value for Mod1 represents that the influence of Mod1 results on the students Exam1 results is negligible. This indicates that a student's progress and success is highly related to the students background and cultrual cognition. "
   ]
  },
  {
   "cell_type": "code",
   "execution_count": 10,
   "metadata": {},
   "outputs": [
    {
     "data": {
      "image/png": "[encoded data removed]",
      "text/plain": [
       "<Figure size 720x144 with 1 Axes>"
      ]
     },
     "metadata": {
      "needs_background": "light"
     },
     "output_type": "display_data"
    },
    {
     "data": {
      "image/png": "[encoded data removed]",
      "text/plain": [
       "<Figure size 720x144 with 1 Axes>"
      ]
     },
     "metadata": {
      "needs_background": "light"
     },
     "output_type": "display_data"
    },
    {
     "data": {
      "image/png": "[encoded data removed]",
      "text/plain": [
       "<Figure size 720x144 with 1 Axes>"
      ]
     },
     "metadata": {
      "needs_background": "light"
     },
     "output_type": "display_data"
    },
    {
     "data": {
      "image/png": "[encoded data removed]",
      "text/plain": [
       "<Figure size 720x144 with 1 Axes>"
      ]
     },
     "metadata": {
      "needs_background": "light"
     },
     "output_type": "display_data"
    },
    {
     "data": {
      "image/png": "[encoded data removed]",
      "text/plain": [
       "<Figure size 576x144 with 1 Axes>"
      ]
     },
     "metadata": {
      "needs_background": "light"
     },
     "output_type": "display_data"
    },
    {
     "name": "stdout",
     "output_type": "stream",
     "text": [
      "3.793790678433392e-14\n"
     ]
    }
   ],
   "source": [
    "#Using the residual test to measure the robustness (errors) of the prediction made using the linear regression\n",
    "#testing residual by each predictor variable used in the regression analysis\n",
    "for x in ('GENDER', 'ETHNICITY', 'FIRST_GEN','Mod1'):\n",
    "    plt.figure(figsize=(10,2))\n",
    "    sns.scatterplot(Project[x], lm3.resid)\n",
    "    plt.title(\"Residuals by %s\" % x)\n",
    "    plt.ylim(-100, 100)\n",
    "  \n",
    "    plt.axhline(np.mean(lm3.resid))\n",
    "    plt.show()\n",
    "#testing residual of the predicted value\n",
    "plt.figure(figsize=(8,2))\n",
    "sns.scatterplot(lm3.predict(), lm3.resid)\n",
    "plt.title(\"Residuals by Predicted Value\")\n",
    "plt.ylim(-100, 100)\n",
    "plt.axhline(np.mean(lm3.resid))\n",
    "plt.show()\n",
    "#printing the mean of the residual\n",
    "print(np.mean(lm3.resid))"
   ]
  },
  {
   "cell_type": "markdown",
   "metadata": {},
   "source": [
    "Based on the assumption for residuals the above graphs show that the model satisfactorily fulfills the requirements. The graphs above and the statistical summary of the mean show that the model has a mean close to zero across the distribution, the vertical spread of the points is approximately constant between -50 and 50, appears to have a normal distribution where points are clustered close to zero on the y-axis of the graphs, and there is no relationship between the input variables and the residuals showing that variables are independent of one another."
   ]
  },
  {
   "cell_type": "markdown",
   "metadata": {},
   "source": [
    "Question 3: Does a student's envisioned career path (described by program of study) have an influence on students preparation for college and success in college? Would this relationship change (defy) the effects of cultural cognition and background.\n"
   ]
  },
  {
   "cell_type": "code",
   "execution_count": 11,
   "metadata": {},
   "outputs": [
    {
     "data": {
      "image/png": "[encoded data removed]",
      "text/plain": [
       "<Figure size 360x360 with 1 Axes>"
      ]
     },
     "metadata": {
      "needs_background": "light"
     },
     "output_type": "display_data"
    },
    {
     "data": {
      "text/plain": [
       "<Figure size 1152x576 with 0 Axes>"
      ]
     },
     "metadata": {},
     "output_type": "display_data"
    },
    {
     "data": {
      "text/plain": [
       "<function matplotlib.pyplot.show(*args, **kw)>"
      ]
     },
     "execution_count": 11,
     "metadata": {},
     "output_type": "execute_result"
    },
    {
     "data": {
      "image/png": "[encoded data removed]",
      "text/plain": [
       "<Figure size 872.75x360 with 2 Axes>"
      ]
     },
     "metadata": {
      "needs_background": "light"
     },
     "output_type": "display_data"
    }
   ],
   "source": [
    "#Plotting Exam1 against Primary program to see if there is a significant difference between students of different programs\n",
    "sns.catplot('PRIMARY_PROGRAM', 'Exam1', data=Project, kind='bar')\n",
    "plt.figure(figsize=(16,8))\n",
    "plt.show()\n",
    "\n",
    "#adding other predictos ethnicity and first generation to the plot above to show how background influences the Exam1 results\n",
    "sns.catplot('PRIMARY_PROGRAM', 'Exam1', hue='ETHNICITY', col='FIRST_GEN', data=Project, kind='bar')\n",
    "plt.show\n"
   ]
  },
  {
   "cell_type": "markdown",
   "metadata": {},
   "source": [
    "The above descriptive analysis of primary program with Exam1 results in its aggregated evaluation only shows the naturally expected difference between general groups of natural science and humnities.The details of distinction between students among program studies becomes more pronounced once we introduce ethnicity and first generations fields as predictors. The program choice difference between students of different background shows a distinct pattern. Most of all there is higher number of first generation students scoring higher points in the Exam1 for students identified as minorty groups, which is contrary to the results and predictions of the two research questions we evaluated in this project. This difference explains that the amount of work put into and the preparation made for college has correlation to the students envisoned career path. In the above plots we can see that students of minority groups both first generation college students and non-first generation who are in the Environmental and health sciences scored higher than the other group of programs.The scores tend to be lower than the general trend with students of non-first generation college students who are in the humnaities programs.  "
   ]
  },
  {
   "cell_type": "markdown",
   "metadata": {},
   "source": [
    "Question 4: If cultrual cognition and background drive a students success in college and career path choice, therefore it is to be expected that a students result in the Diagnostic exam and Exam1 to remain more or less similar. \n",
    "To test this assumption, a students paired t-test was conducted on the fields DigEx and Exam1. "
   ]
  },
  {
   "cell_type": "code",
   "execution_count": 12,
   "metadata": {},
   "outputs": [
    {
     "data": {
      "image/png": "[encoded data removed]",
      "text/plain": [
       "<Figure size 432x288 with 1 Axes>"
      ]
     },
     "metadata": {
      "needs_background": "light"
     },
     "output_type": "display_data"
    }
   ],
   "source": [
    "#plotting Exam1 against DigEx to see if the two values have a pattern and \n",
    "#fitting a regression line to the scatter plot to test correlation\n",
    "sns.regplot('DigEx', 'Exam1', data=Project)\n",
    "plt.show()"
   ]
  },
  {
   "cell_type": "code",
   "execution_count": 13,
   "metadata": {},
   "outputs": [
    {
     "name": "stdout",
     "output_type": "stream",
     "text": [
      "0.7244408665866546\n"
     ]
    }
   ],
   "source": [
    "#independent t-test to test if the two fields Exam1 and DigEx results are statistically different from one another.\n",
    "tstat, pval = stats.ttest_ind(Project.Exam1, Project.DigEx)\n",
    "#printing the p-value of the t-test\n",
    "print(pval)"
   ]
  },
  {
   "cell_type": "markdown",
   "metadata": {},
   "source": [
    "The t-test result shows that two fields are significantly different from each other. Therefore, there are other factors that played into the change of results from DigEx at the begining of the semester to the Exam1 results almost mid point of the semester. Therefore, we tried to look into if there is a relationship or pattern between the results in the diagnostic exam and the changes exhibited by students in exam one. A linear regression model (see below) was used to describe Exam1 via a single predictor DigEx (see below).The linear equation Exam1(DigEx)=26.5742+0.6131DigEx, has a p-value very close to zero showing a strong evidence against the null hypothesis for this question, which is Exam1 and DigEx are results of similar pattern. The results of this analysis conclude that students results shown in diagnostic exam and exam one have different factors influencing them. "
   ]
  },
  {
   "cell_type": "code",
   "execution_count": 14,
   "metadata": {},
   "outputs": [
    {
     "data": {
      "text/html": [
       "<table class=\"simpletable\">\n",
       "<caption>OLS Regression Results</caption>\n",
       "<tr>\n",
       "  <th>Dep. Variable:</th>          <td>Exam1</td>      <th>  R-squared:         </th> <td>   0.375</td>\n",
       "</tr>\n",
       "<tr>\n",
       "  <th>Model:</th>                   <td>OLS</td>       <th>  Adj. R-squared:    </th> <td>   0.369</td>\n",
       "</tr>\n",
       "<tr>\n",
       "  <th>Method:</th>             <td>Least Squares</td>  <th>  F-statistic:       </th> <td>   66.61</td>\n",
       "</tr>\n",
       "<tr>\n",
       "  <th>Date:</th>             <td>Tue, 17 Dec 2019</td> <th>  Prob (F-statistic):</th> <td>5.69e-13</td>\n",
       "</tr>\n",
       "<tr>\n",
       "  <th>Time:</th>                 <td>21:15:00</td>     <th>  Log-Likelihood:    </th> <td> -476.94</td>\n",
       "</tr>\n",
       "<tr>\n",
       "  <th>No. Observations:</th>      <td>   113</td>      <th>  AIC:               </th> <td>   957.9</td>\n",
       "</tr>\n",
       "<tr>\n",
       "  <th>Df Residuals:</th>          <td>   111</td>      <th>  BIC:               </th> <td>   963.3</td>\n",
       "</tr>\n",
       "<tr>\n",
       "  <th>Df Model:</th>              <td>     1</td>      <th>                     </th>     <td> </td>   \n",
       "</tr>\n",
       "<tr>\n",
       "  <th>Covariance Type:</th>      <td>nonrobust</td>    <th>                     </th>     <td> </td>   \n",
       "</tr>\n",
       "</table>\n",
       "<table class=\"simpletable\">\n",
       "<tr>\n",
       "      <td></td>         <th>coef</th>     <th>std err</th>      <th>t</th>      <th>P>|t|</th>  <th>[0.025</th>    <th>0.975]</th>  \n",
       "</tr>\n",
       "<tr>\n",
       "  <th>Intercept</th> <td>   26.5742</td> <td>    5.210</td> <td>    5.101</td> <td> 0.000</td> <td>   16.251</td> <td>   36.898</td>\n",
       "</tr>\n",
       "<tr>\n",
       "  <th>DigEx</th>     <td>    0.6131</td> <td>    0.075</td> <td>    8.161</td> <td> 0.000</td> <td>    0.464</td> <td>    0.762</td>\n",
       "</tr>\n",
       "</table>\n",
       "<table class=\"simpletable\">\n",
       "<tr>\n",
       "  <th>Omnibus:</th>       <td> 7.977</td> <th>  Durbin-Watson:     </th> <td>   1.767</td>\n",
       "</tr>\n",
       "<tr>\n",
       "  <th>Prob(Omnibus):</th> <td> 0.019</td> <th>  Jarque-Bera (JB):  </th> <td>   7.637</td>\n",
       "</tr>\n",
       "<tr>\n",
       "  <th>Skew:</th>          <td>-0.605</td> <th>  Prob(JB):          </th> <td>  0.0220</td>\n",
       "</tr>\n",
       "<tr>\n",
       "  <th>Kurtosis:</th>      <td> 3.396</td> <th>  Cond. No.          </th> <td>    231.</td>\n",
       "</tr>\n",
       "</table><br/><br/>Warnings:<br/>[1] Standard Errors assume that the covariance matrix of the errors is correctly specified."
      ],
      "text/plain": [
       "<class 'statsmodels.iolib.summary.Summary'>\n",
       "\"\"\"\n",
       "                            OLS Regression Results                            \n",
       "==============================================================================\n",
       "Dep. Variable:                  Exam1   R-squared:                       0.375\n",
       "Model:                            OLS   Adj. R-squared:                  0.369\n",
       "Method:                 Least Squares   F-statistic:                     66.61\n",
       "Date:                Tue, 17 Dec 2019   Prob (F-statistic):           5.69e-13\n",
       "Time:                        21:15:00   Log-Likelihood:                -476.94\n",
       "No. Observations:                 113   AIC:                             957.9\n",
       "Df Residuals:                     111   BIC:                             963.3\n",
       "Df Model:                           1                                         \n",
       "Covariance Type:            nonrobust                                         \n",
       "==============================================================================\n",
       "                 coef    std err          t      P>|t|      [0.025      0.975]\n",
       "------------------------------------------------------------------------------\n",
       "Intercept     26.5742      5.210      5.101      0.000      16.251      36.898\n",
       "DigEx          0.6131      0.075      8.161      0.000       0.464       0.762\n",
       "==============================================================================\n",
       "Omnibus:                        7.977   Durbin-Watson:                   1.767\n",
       "Prob(Omnibus):                  0.019   Jarque-Bera (JB):                7.637\n",
       "Skew:                          -0.605   Prob(JB):                       0.0220\n",
       "Kurtosis:                       3.396   Cond. No.                         231.\n",
       "==============================================================================\n",
       "\n",
       "Warnings:\n",
       "[1] Standard Errors assume that the covariance matrix of the errors is correctly specified.\n",
       "\"\"\""
      ]
     },
     "execution_count": 14,
     "metadata": {},
     "output_type": "execute_result"
    }
   ],
   "source": [
    "#linear regression model to describe Exam1 by DigEx as a predictor\n",
    "lm4 = ols('Exam1 ~ DigEx', data=Project)\n",
    "lm5= lm4.fit()\n",
    "lm5.summary()"
   ]
  },
  {
   "cell_type": "code",
   "execution_count": 15,
   "metadata": {},
   "outputs": [
    {
     "name": "stdout",
     "output_type": "stream",
     "text": [
      "Intercept    1.406149e-06\n",
      "DigEx        5.692343e-13\n",
      "dtype: float64\n"
     ]
    }
   ],
   "source": [
    "#printing the p-values of the regression for closer look\n",
    "print(lm5.pvalues)"
   ]
  },
  {
   "cell_type": "markdown",
   "metadata": {},
   "source": [
    "In conclusion, the effect of cultural cognition and background on a student's preparation to college is much pronounced as evidenced in question one of this study, while different factors play into a students success in college as evidenced in questions through two to four in this study. Therefore, it needs more rigor statistical analysis and models to predict a students success in college based on the factors influencing the students preparation, level of work in college. This analysis of complex factors is beyond the scope and time of this project. "
   ]
  }
 ],
 "metadata": {
  "kernelspec": {
   "display_name": "Python 3",
   "language": "python",
   "name": "python3"
  },
  "language_info": {
   "codemirror_mode": {
    "name": "ipython",
    "version": 3
   },
   "file_extension": ".py",
   "mimetype": "text/x-python",
   "name": "python",
   "nbconvert_exporter": "python",
   "pygments_lexer": "ipython3",
   "version": "3.7.3"
  }
 },
 "nbformat": 4,
 "nbformat_minor": 2
}
